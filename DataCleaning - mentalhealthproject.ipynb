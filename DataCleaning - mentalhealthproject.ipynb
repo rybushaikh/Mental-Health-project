{
 "cells": [
  {
   "cell_type": "code",
   "execution_count": 1,
   "id": "ad58e1ea-b35a-48d2-a6b6-e22a1141c1da",
   "metadata": {},
   "outputs": [],
   "source": [
    "# Importing libraries\n",
    "import pandas as pd\n",
    "import numpy as np\n",
    "import seaborn as sns\n",
    "import matplotlib.pyplot as plt\n",
    "from io import StringIO"
   ]
  },
  {
   "cell_type": "code",
   "execution_count": 2,
   "id": "bade0e48-7f15-4808-a97e-08d8ff6e7972",
   "metadata": {},
   "outputs": [],
   "source": [
    "# Reading the Dataset in the enviroment \n",
    "df = pd.read_sas(r\"C:\\Users\\Raheb\\Desktop\\DBs\\LLCP2022.XPT\")"
   ]
  },
  {
   "cell_type": "code",
   "execution_count": 3,
   "id": "b457d2da-98cd-4220-a08f-3e691c8cc73d",
   "metadata": {},
   "outputs": [
    {
     "data": {
      "text/plain": [
       "(445132, 328)"
      ]
     },
     "execution_count": 3,
     "metadata": {},
     "output_type": "execute_result"
    }
   ],
   "source": [
    "# Checking for the dataset dimensions\n",
    "df.shape"
   ]
  },
  {
   "cell_type": "code",
   "execution_count": 4,
   "id": "4f8b9f70-9043-4252-ad64-cdf5eae6dd13",
   "metadata": {},
   "outputs": [
    {
     "data": {
      "text/plain": [
       "array(['_STATE', 'FMONTH', 'IDATE', 'IMONTH', 'IDAY', 'IYEAR', 'DISPCODE',\n",
       "       'SEQNO', '_PSU', 'CTELENM1', 'PVTRESD1', 'COLGHOUS', 'STATERE1',\n",
       "       'CELPHON1', 'LADULT1', 'COLGSEX1', 'NUMADULT', 'LANDSEX1',\n",
       "       'NUMMEN', 'NUMWOMEN', 'RESPSLCT', 'SAFETIME', 'CTELNUM1',\n",
       "       'CELLFON5', 'CADULT1', 'CELLSEX1', 'PVTRESD3', 'CCLGHOUS',\n",
       "       'CSTATE1', 'LANDLINE', 'HHADULT', 'SEXVAR', 'GENHLTH', 'PHYSHLTH',\n",
       "       'MENTHLTH', 'POORHLTH', 'PRIMINSR', 'PERSDOC3', 'MEDCOST1',\n",
       "       'CHECKUP1', 'EXERANY2', 'SLEPTIM1', 'LASTDEN4', 'RMVTETH4',\n",
       "       'CVDINFR4', 'CVDCRHD4', 'CVDSTRK3', 'ASTHMA3', 'ASTHNOW',\n",
       "       'CHCSCNC1', 'CHCOCNC1', 'CHCCOPD3', 'ADDEPEV3', 'CHCKDNY2',\n",
       "       'HAVARTH4', 'DIABETE4', 'DIABAGE4', 'MARITAL', 'EDUCA', 'RENTHOM1',\n",
       "       'NUMHHOL4', 'NUMPHON4', 'CPDEMO1C', 'VETERAN3', 'EMPLOY1',\n",
       "       'CHILDREN', 'INCOME3', 'PREGNANT', 'WEIGHT2', 'HEIGHT3', 'DEAF',\n",
       "       'BLIND', 'DECIDE', 'DIFFWALK', 'DIFFDRES', 'DIFFALON', 'HADMAM',\n",
       "       'HOWLONG', 'CERVSCRN', 'CRVCLCNC', 'CRVCLPAP', 'CRVCLHPV',\n",
       "       'HADHYST2', 'HADSIGM4', 'COLNSIGM', 'COLNTES1', 'SIGMTES1',\n",
       "       'LASTSIG4', 'COLNCNCR', 'VIRCOLO1', 'VCLNTES2', 'SMALSTOL',\n",
       "       'STOLTEST', 'STOOLDN2', 'BLDSTFIT', 'SDNATES1', 'SMOKE100',\n",
       "       'SMOKDAY2', 'USENOW3', 'ECIGNOW2', 'LCSFIRST', 'LCSLAST',\n",
       "       'LCSNUMCG', 'LCSCTSC1', 'LCSSCNCR', 'LCSCTWHN', 'ALCDAY4',\n",
       "       'AVEDRNK3', 'DRNK3GE5', 'MAXDRNKS', 'FLUSHOT7', 'FLSHTMY3',\n",
       "       'PNEUVAC4', 'TETANUS1', 'HIVTST7', 'HIVTSTD3', 'HIVRISK5',\n",
       "       'COVIDPOS', 'COVIDSMP', 'COVIDPRM', 'PDIABTS1', 'PREDIAB2',\n",
       "       'DIABTYPE', 'INSULIN1', 'CHKHEMO3', 'EYEEXAM1', 'DIABEYE1',\n",
       "       'DIABEDU1', 'FEETSORE', 'TOLDCFS', 'HAVECFS', 'WORKCFS',\n",
       "       'IMFVPLA3', 'HPVADVC4', 'HPVADSHT', 'SHINGLE2', 'COVIDVA1',\n",
       "       'COVACGET', 'COVIDNU1', 'COVIDINT', 'COVIDFS1', 'COVIDSE1',\n",
       "       'COPDCOGH', 'COPDFLEM', 'COPDBRTH', 'COPDBTST', 'COPDSMOK',\n",
       "       'CNCRDIFF', 'CNCRAGE', 'CNCRTYP2', 'CSRVTRT3', 'CSRVDOC1',\n",
       "       'CSRVSUM', 'CSRVRTRN', 'CSRVINST', 'CSRVINSR', 'CSRVDEIN',\n",
       "       'CSRVCLIN', 'CSRVPAIN', 'CSRVCTL2', 'PSATEST1', 'PSATIME1',\n",
       "       'PCPSARS2', 'PSASUGST', 'PCSTALK1', 'CIMEMLOS', 'CDHOUSE',\n",
       "       'CDASSIST', 'CDHELP', 'CDSOCIAL', 'CDDISCUS', 'CAREGIV1',\n",
       "       'CRGVREL4', 'CRGVLNG1', 'CRGVHRS1', 'CRGVPRB3', 'CRGVALZD',\n",
       "       'CRGVPER1', 'CRGVHOU1', 'CRGVEXPT', 'ACEDEPRS', 'ACEDRINK',\n",
       "       'ACEDRUGS', 'ACEPRISN', 'ACEDIVRC', 'ACEPUNCH', 'ACEHURT1',\n",
       "       'ACESWEAR', 'ACETOUCH', 'ACETTHEM', 'ACEHVSEX', 'ACEADSAF',\n",
       "       'ACEADNED', 'LSATISFY', 'EMTSUPRT', 'SDHISOLT', 'SDHEMPLY',\n",
       "       'FOODSTMP', 'SDHFOOD1', 'SDHBILLS', 'SDHUTILS', 'SDHTRNSP',\n",
       "       'SDHSTRE1', 'MARIJAN1', 'MARJSMOK', 'MARJEAT', 'MARJVAPE',\n",
       "       'MARJDAB', 'MARJOTHR', 'USEMRJN4', 'LASTSMK2', 'STOPSMK2',\n",
       "       'MENTCIGS', 'MENTECIG', 'HEATTBCO', 'ASBIALCH', 'ASBIDRNK',\n",
       "       'ASBIBING', 'ASBIADVC', 'ASBIRDUC', 'FIREARM5', 'GUNLOAD',\n",
       "       'LOADULK2', 'RCSGEND1', 'RCSXBRTH', 'RCSRLTN2', 'CASTHDX2',\n",
       "       'CASTHNO2', 'BIRTHSEX', 'SOMALE', 'SOFEMALE', 'TRNSGNDR', 'HADSEX',\n",
       "       'PFPPRVN4', 'TYPCNTR9', 'BRTHCNT4', 'WHEREGET', 'NOBCUSE8',\n",
       "       'BCPREFER', 'RRCLASS3', 'RRCOGNT2', 'RRTREAT', 'RRATWRK2',\n",
       "       'RRHCARE4', 'RRPHYSM2', 'QSTVER', 'QSTLANG', '_METSTAT',\n",
       "       '_URBSTAT', 'MSCODE', '_STSTR', '_STRWT', '_RAWRAKE', '_WT2RAKE',\n",
       "       '_IMPRACE', '_CHISPNC', '_CRACE2', '_CPRACE2', 'CAGEG', '_CLLCPWT',\n",
       "       '_DUALUSE', '_DUALCOR', '_LLCPWT2', '_LLCPWT', '_RFHLTH',\n",
       "       '_PHYS14D', '_MENT14D', '_HLTHPLN', '_HCVU652', '_TOTINDA',\n",
       "       '_EXTETH3', '_ALTETH3', '_DENVST3', '_MICHD', '_LTASTH1',\n",
       "       '_CASTHM1', '_ASTHMS1', '_DRDXAR2', '_PRACE2', '_MRACE2',\n",
       "       '_HISPANC', '_RACE1', '_RACEG22', '_RACEGR4', '_RACEPR1', '_SEX',\n",
       "       '_AGEG5YR', '_AGE65YR', '_AGE80', '_AGE_G', 'HTIN4', 'HTM4',\n",
       "       'WTKG3', '_BMI5', '_BMI5CAT', '_RFBMI5', '_CHLDCNT', '_EDUCAG',\n",
       "       '_INCOMG1', '_RFMAM22', '_MAM5023', '_HADCOLN', '_CLNSCP1',\n",
       "       '_HADSIGM', '_SGMSCP1', '_SGMS101', '_RFBLDS5', '_STOLDN1',\n",
       "       '_VIRCOL1', '_SBONTI1', '_CRCREC2', '_SMOKER3', '_RFSMOK3',\n",
       "       '_CURECI2', '_YRSSMOK', '_PACKDAY', '_PACKYRS', '_YRSQUIT',\n",
       "       '_SMOKGRP', '_LCSREC', 'DRNKANY6', 'DROCDY4_', '_RFBING6',\n",
       "       '_DRNKWK2', '_RFDRHV8', '_FLSHOT7', '_PNEUMO3', '_AIDTST4'],\n",
       "      dtype=object)"
      ]
     },
     "execution_count": 4,
     "metadata": {},
     "output_type": "execute_result"
    }
   ],
   "source": [
    "# Printing all the column names \n",
    "df.columns.values"
   ]
  },
  {
   "cell_type": "code",
   "execution_count": 5,
   "id": "18dad51a-94c8-4e22-9cab-3a9b5d85b3b1",
   "metadata": {},
   "outputs": [
    {
     "data": {
      "text/plain": [
       "array([1., 2., 3., 4., 6., 5.])"
      ]
     },
     "execution_count": 5,
     "metadata": {},
     "output_type": "execute_result"
    }
   ],
   "source": [
    "df[\"_IMPRACE\"].unique()"
   ]
  },
  {
   "cell_type": "code",
   "execution_count": 6,
   "id": "56ea31b5-9943-4df6-b254-13fb7deec445",
   "metadata": {},
   "outputs": [
    {
     "data": {
      "text/html": [
       "<div>\n",
       "<style scoped>\n",
       "    .dataframe tbody tr th:only-of-type {\n",
       "        vertical-align: middle;\n",
       "    }\n",
       "\n",
       "    .dataframe tbody tr th {\n",
       "        vertical-align: top;\n",
       "    }\n",
       "\n",
       "    .dataframe thead th {\n",
       "        text-align: right;\n",
       "    }\n",
       "</style>\n",
       "<table border=\"1\" class=\"dataframe\">\n",
       "  <thead>\n",
       "    <tr style=\"text-align: right;\">\n",
       "      <th></th>\n",
       "      <th>_STATE</th>\n",
       "      <th>IDATE</th>\n",
       "      <th>MENTHLTH</th>\n",
       "      <th>SLEPTIM1</th>\n",
       "      <th>ADDEPEV3</th>\n",
       "      <th>MARITAL</th>\n",
       "      <th>RENTHOM1</th>\n",
       "      <th>EMPLOY1</th>\n",
       "      <th>CHILDREN</th>\n",
       "      <th>SMOKE100</th>\n",
       "      <th>...</th>\n",
       "      <th>_AGE80</th>\n",
       "      <th>HTIN4</th>\n",
       "      <th>WTKG3</th>\n",
       "      <th>_BMI5CAT</th>\n",
       "      <th>_CHLDCNT</th>\n",
       "      <th>_EDUCAG</th>\n",
       "      <th>_INCOMG1</th>\n",
       "      <th>_SMOKER3</th>\n",
       "      <th>DRNKANY6</th>\n",
       "      <th>DROCDY4_</th>\n",
       "    </tr>\n",
       "  </thead>\n",
       "  <tbody>\n",
       "    <tr>\n",
       "      <th>0</th>\n",
       "      <td>1.0</td>\n",
       "      <td>b'02032022'</td>\n",
       "      <td>88.0</td>\n",
       "      <td>8.0</td>\n",
       "      <td>2.0</td>\n",
       "      <td>1.0</td>\n",
       "      <td>1.0</td>\n",
       "      <td>7.0</td>\n",
       "      <td>88.0</td>\n",
       "      <td>2.0</td>\n",
       "      <td>...</td>\n",
       "      <td>80.0</td>\n",
       "      <td>NaN</td>\n",
       "      <td>NaN</td>\n",
       "      <td>NaN</td>\n",
       "      <td>1.0</td>\n",
       "      <td>4.0</td>\n",
       "      <td>9.0</td>\n",
       "      <td>4.0</td>\n",
       "      <td>2.0</td>\n",
       "      <td>5.397605e-79</td>\n",
       "    </tr>\n",
       "    <tr>\n",
       "      <th>1</th>\n",
       "      <td>1.0</td>\n",
       "      <td>b'02042022'</td>\n",
       "      <td>88.0</td>\n",
       "      <td>6.0</td>\n",
       "      <td>2.0</td>\n",
       "      <td>3.0</td>\n",
       "      <td>1.0</td>\n",
       "      <td>2.0</td>\n",
       "      <td>88.0</td>\n",
       "      <td>2.0</td>\n",
       "      <td>...</td>\n",
       "      <td>80.0</td>\n",
       "      <td>63.0</td>\n",
       "      <td>6804.0</td>\n",
       "      <td>3.0</td>\n",
       "      <td>1.0</td>\n",
       "      <td>2.0</td>\n",
       "      <td>3.0</td>\n",
       "      <td>4.0</td>\n",
       "      <td>2.0</td>\n",
       "      <td>5.397605e-79</td>\n",
       "    </tr>\n",
       "    <tr>\n",
       "      <th>2</th>\n",
       "      <td>1.0</td>\n",
       "      <td>b'02022022'</td>\n",
       "      <td>3.0</td>\n",
       "      <td>5.0</td>\n",
       "      <td>2.0</td>\n",
       "      <td>1.0</td>\n",
       "      <td>1.0</td>\n",
       "      <td>7.0</td>\n",
       "      <td>88.0</td>\n",
       "      <td>2.0</td>\n",
       "      <td>...</td>\n",
       "      <td>56.0</td>\n",
       "      <td>62.0</td>\n",
       "      <td>6350.0</td>\n",
       "      <td>3.0</td>\n",
       "      <td>1.0</td>\n",
       "      <td>4.0</td>\n",
       "      <td>6.0</td>\n",
       "      <td>4.0</td>\n",
       "      <td>2.0</td>\n",
       "      <td>5.397605e-79</td>\n",
       "    </tr>\n",
       "    <tr>\n",
       "      <th>3</th>\n",
       "      <td>1.0</td>\n",
       "      <td>b'02032022'</td>\n",
       "      <td>88.0</td>\n",
       "      <td>7.0</td>\n",
       "      <td>2.0</td>\n",
       "      <td>1.0</td>\n",
       "      <td>1.0</td>\n",
       "      <td>7.0</td>\n",
       "      <td>88.0</td>\n",
       "      <td>1.0</td>\n",
       "      <td>...</td>\n",
       "      <td>73.0</td>\n",
       "      <td>65.0</td>\n",
       "      <td>6350.0</td>\n",
       "      <td>2.0</td>\n",
       "      <td>1.0</td>\n",
       "      <td>2.0</td>\n",
       "      <td>9.0</td>\n",
       "      <td>2.0</td>\n",
       "      <td>2.0</td>\n",
       "      <td>5.397605e-79</td>\n",
       "    </tr>\n",
       "    <tr>\n",
       "      <th>4</th>\n",
       "      <td>1.0</td>\n",
       "      <td>b'02022022'</td>\n",
       "      <td>88.0</td>\n",
       "      <td>9.0</td>\n",
       "      <td>2.0</td>\n",
       "      <td>1.0</td>\n",
       "      <td>1.0</td>\n",
       "      <td>5.0</td>\n",
       "      <td>88.0</td>\n",
       "      <td>2.0</td>\n",
       "      <td>...</td>\n",
       "      <td>43.0</td>\n",
       "      <td>62.0</td>\n",
       "      <td>5398.0</td>\n",
       "      <td>2.0</td>\n",
       "      <td>1.0</td>\n",
       "      <td>3.0</td>\n",
       "      <td>3.0</td>\n",
       "      <td>4.0</td>\n",
       "      <td>1.0</td>\n",
       "      <td>1.000000e+01</td>\n",
       "    </tr>\n",
       "  </tbody>\n",
       "</table>\n",
       "<p>5 rows × 29 columns</p>\n",
       "</div>"
      ],
      "text/plain": [
       "   _STATE        IDATE  MENTHLTH  SLEPTIM1  ADDEPEV3  MARITAL  RENTHOM1  \\\n",
       "0     1.0  b'02032022'      88.0       8.0       2.0      1.0       1.0   \n",
       "1     1.0  b'02042022'      88.0       6.0       2.0      3.0       1.0   \n",
       "2     1.0  b'02022022'       3.0       5.0       2.0      1.0       1.0   \n",
       "3     1.0  b'02032022'      88.0       7.0       2.0      1.0       1.0   \n",
       "4     1.0  b'02022022'      88.0       9.0       2.0      1.0       1.0   \n",
       "\n",
       "   EMPLOY1  CHILDREN  SMOKE100  ...  _AGE80  HTIN4   WTKG3  _BMI5CAT  \\\n",
       "0      7.0      88.0       2.0  ...    80.0    NaN     NaN       NaN   \n",
       "1      2.0      88.0       2.0  ...    80.0   63.0  6804.0       3.0   \n",
       "2      7.0      88.0       2.0  ...    56.0   62.0  6350.0       3.0   \n",
       "3      7.0      88.0       1.0  ...    73.0   65.0  6350.0       2.0   \n",
       "4      5.0      88.0       2.0  ...    43.0   62.0  5398.0       2.0   \n",
       "\n",
       "   _CHLDCNT  _EDUCAG  _INCOMG1  _SMOKER3  DRNKANY6      DROCDY4_  \n",
       "0       1.0      4.0       9.0       4.0       2.0  5.397605e-79  \n",
       "1       1.0      2.0       3.0       4.0       2.0  5.397605e-79  \n",
       "2       1.0      4.0       6.0       4.0       2.0  5.397605e-79  \n",
       "3       1.0      2.0       9.0       2.0       2.0  5.397605e-79  \n",
       "4       1.0      3.0       3.0       4.0       1.0  1.000000e+01  \n",
       "\n",
       "[5 rows x 29 columns]"
      ]
     },
     "execution_count": 6,
     "metadata": {},
     "output_type": "execute_result"
    }
   ],
   "source": [
    "# Feature Selection (Making a subset or a new dataset with relevant data)\n",
    "selected_columns = ['_STATE', 'IDATE','MENTHLTH', 'SLEPTIM1', 'ADDEPEV3', 'MARITAL', 'RENTHOM1','EMPLOY1', 'CHILDREN','SMOKE100', 'ECIGNOW2', 'COVIDPOS', 'LSATISFY','EMTSUPRT', 'SDHISOLT', 'SDHSTRE1', '_PHYS14D', '_TOTINDA', '_SEX', '_AGE80', 'HTIN4', 'WTKG3', '_BMI5CAT', '_CHLDCNT', '_EDUCAG', '_INCOMG1', '_SMOKER3', 'DRNKANY6', 'DROCDY4_']\n",
    "df1 = df[selected_columns]\n",
    "df1.head()"
   ]
  },
  {
   "cell_type": "code",
   "execution_count": 7,
   "id": "6ef3cd7c-847b-4772-9d20-e5837ac7cb7d",
   "metadata": {
    "scrolled": true
   },
   "outputs": [
    {
     "data": {
      "text/plain": [
       "_STATE      float64\n",
       "IDATE        object\n",
       "MENTHLTH    float64\n",
       "SLEPTIM1    float64\n",
       "ADDEPEV3    float64\n",
       "MARITAL     float64\n",
       "RENTHOM1    float64\n",
       "EMPLOY1     float64\n",
       "CHILDREN    float64\n",
       "SMOKE100    float64\n",
       "ECIGNOW2    float64\n",
       "COVIDPOS    float64\n",
       "LSATISFY    float64\n",
       "EMTSUPRT    float64\n",
       "SDHISOLT    float64\n",
       "SDHSTRE1    float64\n",
       "_PHYS14D    float64\n",
       "_TOTINDA    float64\n",
       "_SEX        float64\n",
       "_AGE80      float64\n",
       "HTIN4       float64\n",
       "WTKG3       float64\n",
       "_BMI5CAT    float64\n",
       "_CHLDCNT    float64\n",
       "_EDUCAG     float64\n",
       "_INCOMG1    float64\n",
       "_SMOKER3    float64\n",
       "DRNKANY6    float64\n",
       "DROCDY4_    float64\n",
       "dtype: object"
      ]
     },
     "execution_count": 7,
     "metadata": {},
     "output_type": "execute_result"
    }
   ],
   "source": [
    "# Checking for Data Types\n",
    "df1.dtypes"
   ]
  },
  {
   "cell_type": "code",
   "execution_count": 8,
   "id": "f35b6f35-f764-44de-a644-2f81636de2e6",
   "metadata": {},
   "outputs": [
    {
     "data": {
      "text/plain": [
       "54"
      ]
     },
     "execution_count": 8,
     "metadata": {},
     "output_type": "execute_result"
    }
   ],
   "source": [
    "df1['_STATE'].nunique()"
   ]
  },
  {
   "cell_type": "code",
   "execution_count": 9,
   "id": "7a2604e6-1a91-4814-b41c-1b48ba14542b",
   "metadata": {
    "scrolled": true
   },
   "outputs": [
    {
     "data": {
      "text/plain": [
       "_STATE\n",
       "53.0    26152\n",
       "36.0    17800\n",
       "27.0    16821\n",
       "39.0    16487\n",
       "24.0    16418\n",
       "48.0    14245\n",
       "12.0    13393\n",
       "55.0    11276\n",
       "20.0    11247\n",
       "25.0    11029\n",
       "6.0     10952\n",
       "23.0    10646\n",
       "18.0    10466\n",
       "51.0    10417\n",
       "4.0     10185\n",
       "26.0    10058\n",
       "45.0    10037\n",
       "49.0     9826\n",
       "9.0      9784\n",
       "8.0      9365\n",
       "13.0     9236\n",
       "19.0     8949\n",
       "50.0     8811\n",
       "34.0     8209\n",
       "15.0     7747\n",
       "31.0     7473\n",
       "29.0     7438\n",
       "46.0     7424\n",
       "30.0     7048\n",
       "33.0     6757\n",
       "16.0     6280\n",
       "44.0     5893\n",
       "2.0      5865\n",
       "40.0     5775\n",
       "41.0     5756\n",
       "22.0     5629\n",
       "72.0     5509\n",
       "5.0      5309\n",
       "47.0     5266\n",
       "54.0     4981\n",
       "35.0     4758\n",
       "42.0     4582\n",
       "1.0      4506\n",
       "37.0     4505\n",
       "28.0     4239\n",
       "38.0     4153\n",
       "56.0     4142\n",
       "17.0     4056\n",
       "21.0     4023\n",
       "10.0     3987\n",
       "11.0     3237\n",
       "32.0     3188\n",
       "66.0     2266\n",
       "78.0     1531\n",
       "Name: count, dtype: int64"
      ]
     },
     "execution_count": 9,
     "metadata": {},
     "output_type": "execute_result"
    }
   ],
   "source": [
    "df1['_STATE'].value_counts()"
   ]
  },
  {
   "cell_type": "code",
   "execution_count": 10,
   "id": "189d5189-194c-4020-82b6-b8659b433e14",
   "metadata": {},
   "outputs": [],
   "source": [
    "# Renaming the selected features for better and ease of use\n",
    "columns_mapping = {'_STATE': 'State', 'IDATE':'Date', 'MENTHLTH' : 'Mental_Health_Days', 'SLEPTIM1': 'Sleep_Hours_per_day', 'ADDEPEV3': 'Deppresive_Dissorder', 'MARITAL': 'Marrital_Status', 'RENTHOM1': 'Home_Ownership','EMPLOY1': 'Employed_Status','SMOKE100': '100_Cigarettes_Lifetime', 'ECIGNOW2': 'Ecigs_Vapes', 'COVIDPOS': 'Covid_Status_Ever', 'LSATISFY': 'Satisfaction_Level','EMTSUPRT': 'Emotional_Support_Recieved', 'SDHISOLT': 'Social_Isolation', 'SDHSTRE1': 'Stress_30days', '_IMPRACE': 'Race/Ethnicity', '_PHYS14D': 'Physical_Health', '_TOTINDA': 'Physically_Active_30days', '_SEX': 'Sex_at_Birth', '_AGE80': 'Age_Distrubution', 'HTIN4': 'Height(inches)', 'WTKG3': 'Weight(kilograms)', '_BMI5CAT': 'BMI', '_CHLDCNT': 'Children_household', '_EDUCAG': 'Education', '_INCOMG1': 'Income', '_SMOKER3': 'Smoking', 'DRNKANY6': 'Drunk_30days', 'DROCDY4_':'Drinks_per_Day'}\n",
    "\n",
    "# Create a copy of the DataFrame using the copy() method\n",
    "df2 = df1.copy()\n",
    "\n",
    "# Rename the columns in the copied DataFrame\n",
    "df2.rename(columns=columns_mapping, inplace=True)"
   ]
  },
  {
   "cell_type": "code",
   "execution_count": 11,
   "id": "950582fb-183f-46cf-a9a5-c3dddab90eee",
   "metadata": {},
   "outputs": [
    {
     "data": {
      "text/plain": [
       "State                         float64\n",
       "Date                           object\n",
       "Mental_Health_Days            float64\n",
       "Sleep_Hours_per_day           float64\n",
       "Deppresive_Dissorder          float64\n",
       "Marrital_Status               float64\n",
       "Home_Ownership                float64\n",
       "Employed_Status               float64\n",
       "CHILDREN                      float64\n",
       "100_Cigarettes_Lifetime       float64\n",
       "Ecigs_Vapes                   float64\n",
       "Covid_Status_Ever             float64\n",
       "Satisfaction_Level            float64\n",
       "Emotional_Support_Recieved    float64\n",
       "Social_Isolation              float64\n",
       "Stress_30days                 float64\n",
       "Physical_Health               float64\n",
       "Physically_Active_30days      float64\n",
       "Sex_at_Birth                  float64\n",
       "Age_Distrubution              float64\n",
       "Height(inches)                float64\n",
       "Weight(kilograms)             float64\n",
       "BMI                           float64\n",
       "Children_household            float64\n",
       "Education                     float64\n",
       "Income                        float64\n",
       "Smoking                       float64\n",
       "Drunk_30days                  float64\n",
       "Drinks_per_Day                float64\n",
       "dtype: object"
      ]
     },
     "execution_count": 11,
     "metadata": {},
     "output_type": "execute_result"
    }
   ],
   "source": [
    "df2.dtypes"
   ]
  },
  {
   "cell_type": "code",
   "execution_count": 12,
   "id": "d45e3baa-ddcc-44d7-8298-38ee012e02f4",
   "metadata": {},
   "outputs": [],
   "source": [
    "# Stripping the Date section to make it more manageable \n",
    "df2[\"Date\"] = df2[\"Date\"].str.decode('utf-8').str.replace(\"[b']\", '')"
   ]
  },
  {
   "cell_type": "code",
   "execution_count": 13,
   "id": "6b271c7d-f8dd-4554-9f8f-9c320f71db69",
   "metadata": {},
   "outputs": [],
   "source": [
    "# Formatting the date variable in usable format\n",
    "df2[\"Date\"] = df2[\"Date\"].apply(lambda x :x[0:2] + '-' + x[2:4] + '-' + x[4:8])"
   ]
  },
  {
   "cell_type": "code",
   "execution_count": 14,
   "id": "cc7a3c7c-d006-4912-8717-261435ea7365",
   "metadata": {},
   "outputs": [
    {
     "data": {
      "text/plain": [
       "array([ 1.,  2.,  4.,  5.,  6.,  8.,  9., 10., 11., 12., 13., 15., 16.,\n",
       "       17., 18., 19., 20., 21., 22., 23., 24., 25., 26., 27., 28., 29.,\n",
       "       30., 31., 32., 33., 34., 35., 36., 37., 38., 39., 40., 41., 42.,\n",
       "       44., 45., 46., 47., 48., 49., 50., 51., 53., 54., 55., 56., 66.,\n",
       "       72., 78.])"
      ]
     },
     "execution_count": 14,
     "metadata": {},
     "output_type": "execute_result"
    }
   ],
   "source": [
    "# Checking \"State\" variable for unique values \n",
    "df2[\"State\"].unique()"
   ]
  },
  {
   "cell_type": "code",
   "execution_count": 15,
   "id": "b5615d32-54ca-4961-bacd-b2ea074208fa",
   "metadata": {
    "scrolled": true
   },
   "outputs": [],
   "source": [
    "# Replacing labels with their corresponding State Names\n",
    "value_label_mapping = {1: 'Alabama', 2: 'Alaska', 4: 'Arizona', 5: 'Arkansas', 6: 'California', 8: 'Colorado', 9: 'Connecticut', 10: 'Delaware', 11: 'District of Columbia', 12: 'Florida', 13: 'Georgia', 15: 'Hawaii', 16: 'Idaho', 17: 'Illinois', 18: 'Indiana', 19: 'Iowa', 20: 'Kansas', 21: 'Kentucky', 22: 'Louisiana', 23: 'Maine', 24: 'Maryland', 25: 'Massachusetts', 26: 'Michigan', 27: 'Minnesota', 28: 'Mississippi', 29: 'Missouri', 30: 'Montana', 31: 'Nebraska', 32: 'Nevada', 33: 'New Hampshire', 34: 'New Jersey', 35: 'New Mexico', 36: 'New York', 37: 'North Carolina', 38: 'North Dakota', 39: 'Ohio', 40: 'Oklahoma', 41: 'Oregon', 42: 'Pennsylvania', 44: 'Rhode Island', 45: 'South Carolina', 46: 'South Dakota', 47: 'Tennessee', 48: 'Texas', 49: 'Utah', 50: 'Vermont', 51: 'Virginia', 53: 'Washington', 54: 'West Virginia', 55: 'Wisconsin', 56: 'Wyoming', 66: 'Guam', 72: 'Puerto Rico', 78: 'Virgin Islands'}\n",
    "# Replacing values in the \"State\" column with their corresponding labels\n",
    "df2['State'] = df2['State'].replace(value_label_mapping)"
   ]
  },
  {
   "cell_type": "code",
   "execution_count": 16,
   "id": "a65adbd7-9506-4d29-8008-5a66426925ec",
   "metadata": {},
   "outputs": [
    {
     "data": {
      "text/plain": [
       "array(['Alabama', 'Alaska', 'Arizona', 'Arkansas', 'California',\n",
       "       'Colorado', 'Connecticut', 'Delaware', 'District of Columbia',\n",
       "       'Florida', 'Georgia', 'Hawaii', 'Idaho', 'Illinois', 'Indiana',\n",
       "       'Iowa', 'Kansas', 'Kentucky', 'Louisiana', 'Maine', 'Maryland',\n",
       "       'Massachusetts', 'Michigan', 'Minnesota', 'Mississippi',\n",
       "       'Missouri', 'Montana', 'Nebraska', 'Nevada', 'New Hampshire',\n",
       "       'New Jersey', 'New Mexico', 'New York', 'North Carolina',\n",
       "       'North Dakota', 'Ohio', 'Oklahoma', 'Oregon', 'Pennsylvania',\n",
       "       'Rhode Island', 'South Carolina', 'South Dakota', 'Tennessee',\n",
       "       'Texas', 'Utah', 'Vermont', 'Virginia', 'Washington',\n",
       "       'West Virginia', 'Wisconsin', 'Wyoming', 'Guam', 'Puerto Rico',\n",
       "       'Virgin Islands'], dtype=object)"
      ]
     },
     "execution_count": 16,
     "metadata": {},
     "output_type": "execute_result"
    }
   ],
   "source": [
    "# Checking for successful replacements\n",
    "df2[\"State\"].unique()"
   ]
  },
  {
   "cell_type": "code",
   "execution_count": 17,
   "id": "7f039870-c030-44b2-bb9b-9d738a4407a8",
   "metadata": {},
   "outputs": [],
   "source": [
    "# Survey Question: Now thinking about your mental health, which includes stress, depression, and problems with emotions, for how many days during the past 30 days was your mental health not good?\n",
    "# Survey Answer: From the question asked above we got 170,836 answers with a numeric value whereas, 265,229 survey answers said they did not face any days of stress or anxiety."
   ]
  },
  {
   "cell_type": "code",
   "execution_count": 18,
   "id": "58a9b010-8371-4758-8f85-d8d549f1f8ed",
   "metadata": {},
   "outputs": [],
   "source": [
    "# Set scientific notations off to display only 2 digits after decimal point\n",
    "#df2 = df2.applymap(lambda x: f'{x:.2f}' if isinstance(x, (int, float)) else x)"
   ]
  },
  {
   "cell_type": "code",
   "execution_count": 19,
   "id": "130a58ba-5e40-467f-988f-a855ff5cf2bf",
   "metadata": {},
   "outputs": [],
   "source": [
    "# Replacing the Data in \"Mental Health\" from the data key where 88 are none\n",
    "df2['Mental_Health_Days'].replace([88], 0, inplace=True)\n",
    "\n",
    "# Replace values 77 and 99 with \"NA\" in the \"Mental_Health\" column\n",
    "df2['Mental_Health_Days'].replace([77, 99], \"NA\", inplace=True)"
   ]
  },
  {
   "cell_type": "code",
   "execution_count": 20,
   "id": "c3173e79-cb4a-4d90-a5ab-ee96519167f7",
   "metadata": {},
   "outputs": [],
   "source": [
    "# Convert \"Mental_Health\" column to numeric type (float)\n",
    "df2['Mental_Health_Days'] = pd.to_numeric(df2['Mental_Health_Days'], errors='coerce')"
   ]
  },
  {
   "cell_type": "code",
   "execution_count": 21,
   "id": "c1eea3cb-5b0e-49f9-91dd-7f87fe12d019",
   "metadata": {},
   "outputs": [
    {
     "data": {
      "image/png": "[encoded data removed]",
      "text/plain": [
       "<Figure size 640x480 with 1 Axes>"
      ]
     },
     "metadata": {},
     "output_type": "display_data"
    }
   ],
   "source": [
    "# Visualizing the data from survey responses that shows us that the sample population, 39.2% people faced either stress or anxiety\n",
    "sns.set(style=\"whitegrid\")\n",
    "\n",
    "# Counting the occurrences of \"0\" and actual values in the \"Mental_Health\" column\n",
    "zero_count = (df2[\"Mental_Health_Days\"] == 0).sum()\n",
    "actual_count = df2[\"Mental_Health_Days\"].count() - zero_count\n",
    "\n",
    "# Plotting the pie chart\n",
    "plt.pie([zero_count, actual_count], labels=['No days', 'Some days'], autopct='%1.1f%%', colors=['lightcoral', 'lightblue'])\n",
    "plt.title('Mental health not good in the last 30 days')\n",
    "plt.show()"
   ]
  },
  {
   "cell_type": "code",
   "execution_count": 22,
   "id": "764dbe5e-b0fe-49e5-ad16-e9a736006bbc",
   "metadata": {},
   "outputs": [],
   "source": [
    "# From the plot we can see that there are more than 60% of the sample population with no days of mental health problems.\n",
    "# Going ahead we will be focusing on the population where they faced some days of mental health problem as well as plotting them."
   ]
  },
  {
   "cell_type": "code",
   "execution_count": 23,
   "id": "88520ff6-296e-4b47-9d05-650c2bc62483",
   "metadata": {},
   "outputs": [
    {
     "data": {
      "image/png": "[encoded data removed]",
      "text/plain": [
       "<Figure size 640x480 with 1 Axes>"
      ]
     },
     "metadata": {},
     "output_type": "display_data"
    }
   ],
   "source": [
    "# Set the style for Seaborn (optional, but it enhances the visual appeal)\n",
    "sns.set(style=\"whitegrid\")\n",
    "\n",
    "# Filtering out zero and NA values in the \"Mental_Health\" column\n",
    "non_zero_values = df2[\"Mental_Health_Days\"].dropna()[df2[\"Mental_Health_Days\"] != 0]\n",
    "\n",
    "# Plotting a histogram\n",
    "ax = sns.histplot(non_zero_values, bins=10, kde=True, color='lightblue', edgecolor='black')\n",
    "plt.xlabel('Days in a month with mental health problems')\n",
    "plt.ylabel('Frequency')\n",
    "plt.title('Distribution of population (faced mental health problems in a month)')\n",
    "\n",
    "# Annotating the bars with their frequencies\n",
    "for rect in ax.patches:\n",
    "    height = rect.get_height()\n",
    "    ax.text(rect.get_x() + rect.get_width() / 2, height, f'{int(height)}',\n",
    "            ha='center', va='bottom')\n",
    "\n",
    "plt.show()"
   ]
  },
  {
   "cell_type": "code",
   "execution_count": 24,
   "id": "2d783871-3374-4e77-ba7a-209a7ce7d441",
   "metadata": {},
   "outputs": [
    {
     "data": {
      "text/plain": [
       "array(['State', 'Date', 'Mental_Health_Days', 'Sleep_Hours_per_day',\n",
       "       'Deppresive_Dissorder', 'Marrital_Status', 'Home_Ownership',\n",
       "       'Employed_Status', 'CHILDREN', '100_Cigarettes_Lifetime',\n",
       "       'Ecigs_Vapes', 'Covid_Status_Ever', 'Satisfaction_Level',\n",
       "       'Emotional_Support_Recieved', 'Social_Isolation', 'Stress_30days',\n",
       "       'Physical_Health', 'Physically_Active_30days', 'Sex_at_Birth',\n",
       "       'Age_Distrubution', 'Height(inches)', 'Weight(kilograms)', 'BMI',\n",
       "       'Children_household', 'Education', 'Income', 'Smoking',\n",
       "       'Drunk_30days', 'Drinks_per_Day'], dtype=object)"
      ]
     },
     "execution_count": 24,
     "metadata": {},
     "output_type": "execute_result"
    }
   ],
   "source": [
    "df2.columns.values"
   ]
  },
  {
   "cell_type": "code",
   "execution_count": 25,
   "id": "3266045a-164d-44ee-b33c-66ded36871e9",
   "metadata": {},
   "outputs": [],
   "source": [
    "# Replace 77 and 99 with NaN in the \"Sleep_Hours_per_day\" column\n",
    "df2['Sleep_Hours_per_day'].replace([77, 99], np.nan, inplace=True)"
   ]
  },
  {
   "cell_type": "code",
   "execution_count": 26,
   "id": "5882730b-4c5f-47cf-b060-0df52e91ad3e",
   "metadata": {},
   "outputs": [
    {
     "data": {
      "text/plain": [
       "count    439679.000000\n",
       "mean          7.022983\n",
       "std           1.502425\n",
       "min           1.000000\n",
       "25%           6.000000\n",
       "50%           7.000000\n",
       "75%           8.000000\n",
       "max          24.000000\n",
       "Name: Sleep_Hours_per_day, dtype: float64"
      ]
     },
     "execution_count": 26,
     "metadata": {},
     "output_type": "execute_result"
    }
   ],
   "source": [
    "df2[\"Sleep_Hours_per_day\"].describe()"
   ]
  },
  {
   "cell_type": "code",
   "execution_count": 27,
   "id": "2179151e-8edf-40fa-95d9-28b6ce3be16d",
   "metadata": {},
   "outputs": [
    {
     "data": {
      "image/png": "[encoded data removed]",
      "text/plain": [
       "<Figure size 640x480 with 1 Axes>"
      ]
     },
     "metadata": {},
     "output_type": "display_data"
    }
   ],
   "source": [
    "# Create a histogram for the \"Sleep_Hours_per_day\" column\n",
    "plt.hist(df2[\"Sleep_Hours_per_day\"].dropna(), bins=24, edgecolor='black')\n",
    "\n",
    "# Add labels and title\n",
    "plt.xlabel(\"Sleep Hours per Day\")\n",
    "plt.ylabel(\"Frequency\")\n",
    "plt.title(\"Histogram of Sleep Hours per Day\")\n",
    "\n",
    "# Show the histogram\n",
    "plt.show()"
   ]
  },
  {
   "cell_type": "code",
   "execution_count": 28,
   "id": "aaada563-afae-4553-b40a-a3ca2d64dff8",
   "metadata": {},
   "outputs": [],
   "source": [
    "# Replace 7 and 9 with NaN in the \"Deppresive_Dissorder\" column\n",
    "df2['Deppresive_Dissorder'].replace([7, 9], np.nan, inplace=True)"
   ]
  },
  {
   "cell_type": "code",
   "execution_count": 29,
   "id": "0f469902-ec3e-47d8-abec-76e334e26711",
   "metadata": {},
   "outputs": [
    {
     "data": {
      "image/png": "[encoded data removed]",
      "text/plain": [
       "<Figure size 800x800 with 1 Axes>"
      ]
     },
     "metadata": {},
     "output_type": "display_data"
    }
   ],
   "source": [
    "# Replace 1 with \"Yes\" and 2 with \"No\" in the \"Deppresive_Dissorder\" column\n",
    "df2['Deppresive_Dissorder'].replace({1: \"Yes\", 2: \"No\"}, inplace=True)\n",
    "\n",
    "# Count the occurrences of each value in \"Deppresive_Dissorder\" and drop NaN values\n",
    "value_counts = df2['Deppresive_Dissorder'].dropna().value_counts()\n",
    "\n",
    "# Create a donut chart using Seaborn and Matplotlib\n",
    "plt.figure(figsize=(8, 8))\n",
    "wedges, text, autotext = plt.pie(value_counts, labels=value_counts.index, autopct='%1.1f%%', startangle=90, wedgeprops=dict(width=0.4))\n",
    "\n",
    "# Add a circle at the center to create a donut chart\n",
    "centre_circle = plt.Circle((0,0),0.70,fc='white')\n",
    "fig = plt.gcf()\n",
    "fig.gca().add_artist(centre_circle)\n",
    "\n",
    "# Add a title\n",
    "plt.title(\"Donut Chart of Deppresive Dissorder\")\n",
    "\n",
    "# Show the donut chart\n",
    "plt.show()"
   ]
  },
  {
   "cell_type": "code",
   "execution_count": 30,
   "id": "f097dbe9-a90f-4e35-b87e-f0e77b2bf205",
   "metadata": {},
   "outputs": [],
   "source": [
    "# Define a dictionary to map values to labels\n",
    "marital_status_mapping = {\n",
    "    1: 'Married',\n",
    "    2: 'Divorced',\n",
    "    3: 'Widowed',\n",
    "    4: 'Separated',\n",
    "    5: 'Never married',\n",
    "    6: 'A member of an unmarried couple',\n",
    "    9: 'Refused'\n",
    "}\n",
    "\n",
    "# Map the 'Marital_Status' column to its corresponding label\n",
    "df2['Marrital_Status'] = df2['Marrital_Status'].map(marital_status_mapping)"
   ]
  },
  {
   "cell_type": "code",
   "execution_count": 31,
   "id": "01b31bfa-07f4-4036-a9a0-806dc05a325f",
   "metadata": {},
   "outputs": [],
   "source": [
    "# Define a dictionary to map values to labels\n",
    "housing_status_mapping = {\n",
    "    1: 'Own',\n",
    "    2: 'Rent',\n",
    "    3: 'Other arrangement',\n",
    "    7: 'Don’t know/Not Sure',\n",
    "    9: 'Refused'\n",
    "}\n",
    "\n",
    "# Map the 'Housing_Status' column to its corresponding label\n",
    "df2['Home_Ownership'] = df2['Home_Ownership'].map(housing_status_mapping)\n"
   ]
  },
  {
   "cell_type": "code",
   "execution_count": 32,
   "id": "4b42f674-5ea7-4901-991e-68082d43cb04",
   "metadata": {},
   "outputs": [
    {
     "data": {
      "text/plain": [
       "array([8.80000000e+01, 1.00000000e+00, 4.00000000e+00, 2.00000000e+00,\n",
       "                  nan, 3.00000000e+00, 5.00000000e+00, 9.90000000e+01,\n",
       "       9.00000000e+00, 6.00000000e+00, 7.00000000e+00, 1.40000000e+01,\n",
       "       1.00000000e+01, 8.00000000e+00, 1.10000000e+01, 1.50000000e+01,\n",
       "       2.10000000e+01, 1.30000000e+01, 1.20000000e+01, 2.00000000e+01,\n",
       "       5.50000000e+01, 4.20000000e+01, 1.70000000e+01, 8.10000000e+01,\n",
       "       4.00000000e+01, 1.60000000e+01, 3.30000000e+01, 1.80000000e+01,\n",
       "       3.00000000e+01, 2.20000000e+01, 4.80000000e+01, 8.20000000e+01,\n",
       "       5.39760535e-79, 2.30000000e+01, 6.10000000e+01, 2.50000000e+01])"
      ]
     },
     "execution_count": 32,
     "metadata": {},
     "output_type": "execute_result"
    }
   ],
   "source": [
    "df2['CHILDREN'].unique()"
   ]
  },
  {
   "cell_type": "code",
   "execution_count": 33,
   "id": "2b57b345-ae2a-4488-b0c1-a8f450447150",
   "metadata": {},
   "outputs": [],
   "source": [
    "# Replace values 88 with 0 and 99 with NaN\n",
    "df2['CHILDREN'].replace({88: 0, 99: np.nan}, inplace=True)"
   ]
  },
  {
   "cell_type": "code",
   "execution_count": 34,
   "id": "d2940e35-8b5b-430b-9918-7e67cc4b828a",
   "metadata": {},
   "outputs": [],
   "source": [
    "df2['CHILDREN'] = df2['CHILDREN'].apply(lambda x: round(x) if pd.notna(x) else x).astype('Int64')"
   ]
  },
  {
   "cell_type": "code",
   "execution_count": 35,
   "id": "70fd7dde-2226-4bf7-8596-1d7e5830252e",
   "metadata": {},
   "outputs": [],
   "source": [
    "replacement_mapping = {\n",
    "    14: 1,\n",
    "    10: 1,\n",
    "    11: 1,\n",
    "    15: 2,\n",
    "    21: 2,\n",
    "    13: 1,\n",
    "    12: 1,\n",
    "    20: 2,\n",
    "    55: 6,\n",
    "    42: 4,\n",
    "    17: 2,\n",
    "    81: 8,\n",
    "    40: 4,\n",
    "    16: 2,\n",
    "    33: 3,\n",
    "    18: 2,\n",
    "    30: 3,\n",
    "    22: 2,\n",
    "    48: 5,\n",
    "    82: 8,\n",
    "    23: 2,\n",
    "    61: 6,\n",
    "    25: 3\n",
    "}\n",
    "\n",
    "# Apply the replacement to the 'CHILDREN' column\n",
    "df2['CHILDREN'] = df2['CHILDREN'].replace(replacement_mapping)"
   ]
  },
  {
   "cell_type": "code",
   "execution_count": 36,
   "id": "ee9153da-422f-4c99-adbb-60203d70d3ea",
   "metadata": {},
   "outputs": [],
   "source": [
    "# Reset the format to normal numeric\n",
    "df2['CHILDREN'] = df2['CHILDREN'].apply(lambda x: f'{x:.0f}' if pd.notna(x) else x).astype('Int64')"
   ]
  },
  {
   "cell_type": "code",
   "execution_count": 37,
   "id": "05bef40e-b833-4245-be3c-3b29e29fa411",
   "metadata": {},
   "outputs": [
    {
     "data": {
      "text/plain": [
       "<IntegerArray>\n",
       "[0, 1, 4, 2, <NA>, 3, 5, 9, 6, 7, 8]\n",
       "Length: 11, dtype: Int64"
      ]
     },
     "execution_count": 37,
     "metadata": {},
     "output_type": "execute_result"
    }
   ],
   "source": [
    "df2['CHILDREN'].unique()"
   ]
  },
  {
   "cell_type": "code",
   "execution_count": 38,
   "id": "266189c7-7b76-46d1-a9df-037e5002a980",
   "metadata": {},
   "outputs": [
    {
     "data": {
      "image/png": "[encoded data removed]",
      "text/plain": [
       "<Figure size 640x480 with 2 Axes>"
      ]
     },
     "metadata": {},
     "output_type": "display_data"
    }
   ],
   "source": [
    "# Calculate value counts for the 'CHILDREN' column\n",
    "value_counts = df2['CHILDREN'].value_counts()\n",
    "\n",
    "# Plot the original pie chart\n",
    "plt.subplot(1, 2, 1)\n",
    "plt.pie(value_counts, labels=value_counts.index, autopct='%1.1f%%', startangle=90, colors=plt.cm.Paired.colors)\n",
    "plt.axis('equal')  # Equal aspect ratio ensures that pie is drawn as a circle.\n",
    "plt.title('No. of children per household')\n",
    "\n",
    "# Create a DataFrame without the value '0'\n",
    "filtered_df = df2[df2['CHILDREN'] != 0]\n",
    "filtered_value_counts = filtered_df['CHILDREN'].value_counts()\n",
    "\n",
    "# Plot the pie chart excluding the value '0'\n",
    "plt.subplot(1, 2, 2)\n",
    "plt.pie(filtered_value_counts, labels=filtered_value_counts.index, autopct='%1.1f%%', startangle=90, colors=plt.cm.Paired.colors)\n",
    "plt.axis('equal')  # Equal aspect ratio ensures that pie is drawn as a circle.\n",
    "plt.title('No. of children per household(<0)')\n",
    "\n",
    "plt.show()"
   ]
  },
  {
   "cell_type": "code",
   "execution_count": 39,
   "id": "7fc559b6-6bfc-4eef-8f1e-da960b564aa7",
   "metadata": {},
   "outputs": [
    {
     "data": {
      "text/plain": [
       "array([ 2.,  1.,  7., nan,  9.])"
      ]
     },
     "execution_count": 39,
     "metadata": {},
     "output_type": "execute_result"
    }
   ],
   "source": [
    "df2[\"100_Cigarettes_Lifetime\"].unique()"
   ]
  },
  {
   "cell_type": "code",
   "execution_count": 40,
   "id": "45a4ccf4-51f3-4cac-9610-5cacb31f24d0",
   "metadata": {},
   "outputs": [],
   "source": [
    "mapping_dict = {1.0: \"Yes\", 2.0: \"No\", 7.0: \"Not Sure\", 9.0: None}\n",
    "df2[\"100_Cigarettes_Lifetime\"] = df2[\"100_Cigarettes_Lifetime\"].map(mapping_dict)"
   ]
  },
  {
   "cell_type": "code",
   "execution_count": 41,
   "id": "81cb2000-e77d-4a3f-9edd-31f47d188da1",
   "metadata": {},
   "outputs": [],
   "source": [
    "mapping_dict = {\n",
    "    1: \"Never used e-cigarettes\",\n",
    "    2: \"Use them every day\",\n",
    "    3: \"Use them some days\",\n",
    "    4: \"Not at all (right now)\",\n",
    "    7: \"Don’t know / Not sure\",\n",
    "    9: \"Refused\",\n",
    "    \"BLANK\": \"Not asked or Missing\"\n",
    "}\n",
    "\n",
    "df2['Ecigs_Vapes'] = df2['Ecigs_Vapes'].replace(mapping_dict)"
   ]
  },
  {
   "cell_type": "code",
   "execution_count": 42,
   "id": "262d40f7-0d5b-4223-b366-3ac7226f2ef7",
   "metadata": {},
   "outputs": [],
   "source": [
    "mapping_dict = {\n",
    "    1: \"Yes\",\n",
    "    2: \"No\",\n",
    "    3: \"Tested positive using home test\",\n",
    "    7: \"Don’t know/Not Sure\",\n",
    "    9: \"Refused\",\n",
    "    \"BLANK\": \"Not asked or Missing\"\n",
    "}\n",
    "\n",
    "# Replace values in the specified column using the mapping dictionary\n",
    "df2['Covid_Status_Ever'] = df2['Covid_Status_Ever'].replace(mapping_dict)"
   ]
  },
  {
   "cell_type": "code",
   "execution_count": 43,
   "id": "bc5ead5b-7e6c-4d10-848b-1914e5a4e1d8",
   "metadata": {},
   "outputs": [],
   "source": [
    "mapping_dict = {\n",
    "    1: \"Very satisfied\",\n",
    "    2: \"Satisfied\",\n",
    "    3: \"Dissatisfied\",\n",
    "    4: \"Very dissatisfied\",\n",
    "    7: \"Don’t know/Not sure\",\n",
    "    9: \"Refused\",\n",
    "    \"BLANK\": \"Not asked or Missing\"\n",
    "}\n",
    "df2['Satisfaction_Level'] = df2['Satisfaction_Level'].replace(mapping_dict)"
   ]
  },
  {
   "cell_type": "code",
   "execution_count": 44,
   "id": "2d55671f-cdfc-413d-886b-66695649a329",
   "metadata": {},
   "outputs": [],
   "source": [
    "mapping_dict = {\n",
    "    1: \"Always\",\n",
    "    2: \"Usually\",\n",
    "    3: \"Sometimes\",\n",
    "    4: \"Rarely\",\n",
    "    5: \"Never\",\n",
    "    7: \"Don’t know/Not sure\",\n",
    "    9: \"Refused\",\n",
    "    \"BLANK\": \"Not asked or Missing\"\n",
    "}\n",
    "\n",
    "# Replace values in the specified column using the mapping dictionary\n",
    "df2['Emotional_Support_Recieved'] = df2['Emotional_Support_Recieved'].replace(mapping_dict)"
   ]
  },
  {
   "cell_type": "code",
   "execution_count": 45,
   "id": "27029d91-34ab-410c-bfc2-fc9fb9b5e819",
   "metadata": {},
   "outputs": [],
   "source": [
    "mapping_dict = {\n",
    "    1: \"Always\",\n",
    "    2: \"Usually\",\n",
    "    3: \"Sometimes\",\n",
    "    4: \"Rarely\",\n",
    "    5: \"Never\",\n",
    "    7: \"Don’t know/Not sure\",\n",
    "    9: \"Refused\",\n",
    "    \"BLANK\": \"Not asked or Missing\"\n",
    "}\n",
    "\n",
    "df2['Social_Isolation'] = df2['Social_Isolation'].replace(mapping_dict)"
   ]
  },
  {
   "cell_type": "code",
   "execution_count": 46,
   "id": "8b4226a6-3905-4e89-be94-f268264d7d40",
   "metadata": {},
   "outputs": [],
   "source": [
    "df2['Race/Ethnicity'] = df['_IMPRACE']\n",
    "mapping_dict = {\n",
    "    1: \"White\",\n",
    "    2: \"Black\",\n",
    "    3: \"Asian\",\n",
    "    4: \"American Indian/Alaskan Native\",\n",
    "    5: \"Hispanic\",\n",
    "    6: \"Other race, Non-Hispanic\"\n",
    "}\n",
    "\n",
    "# Replace values in the specified column using the mapping dictionary\n",
    "df2['Race/Ethnicity'] = df2['Race/Ethnicity'].replace(mapping_dict)"
   ]
  },
  {
   "cell_type": "code",
   "execution_count": 47,
   "id": "9eb9605e-77dc-4b6f-b9e2-d75f3258fda9",
   "metadata": {},
   "outputs": [],
   "source": [
    "mapping_dict = {\n",
    "    1: \"Always\",\n",
    "    2: \"Usually\",\n",
    "    3: \"Sometimes\",\n",
    "    4: \"Rarely\",\n",
    "    5: \"Never\",\n",
    "    7: \"Don’t know/Not Sure\",\n",
    "    9: \"Refused\",\n",
    "    \"BLANK\": \"Not asked or Missing\"\n",
    "}\n",
    "\n",
    "df2['Stress_30days'] = df2['Stress_30days'].replace(mapping_dict)"
   ]
  },
  {
   "cell_type": "code",
   "execution_count": 48,
   "id": "91e97611-6093-4072-86ac-76e7b05d7222",
   "metadata": {},
   "outputs": [],
   "source": [
    "mapping_dict = {\n",
    "    1: \"Zero days when physical health not good\",\n",
    "    2: \"1-13 days when physical health not good\",\n",
    "    3: \"14+ days when physical health not good\",\n",
    "    9: \"Don’t know/Refused/Missing\"\n",
    "}\n",
    "\n",
    "# Create a new column \"Modified_Column\" with the modified values\n",
    "df2['Physical_Health'] = df2['Physical_Health'].replace(mapping_dict)"
   ]
  },
  {
   "cell_type": "code",
   "execution_count": 49,
   "id": "54cc3fd0-4026-4718-b893-327a1f18c347",
   "metadata": {},
   "outputs": [],
   "source": [
    "mapping_dict = {\n",
    "    1: \"Had physical activity or exercise\",\n",
    "    2: \"No physical activity or exercise in last 30 days\",\n",
    "    9: \"Don’t know/Refused/Missing\"\n",
    "}\n",
    "\n",
    "df2['Physically_Active_30days'] = df2['Physically_Active_30days'].replace(mapping_dict)"
   ]
  },
  {
   "cell_type": "code",
   "execution_count": 50,
   "id": "bb312e82-471b-48a4-af2a-7dbc95c0d440",
   "metadata": {},
   "outputs": [],
   "source": [
    "mapping_dict = {\n",
    "    1: \"Male\",\n",
    "    2: \"Female\"\n",
    "}\n",
    "\n",
    "df2['Sex_at_Birth'] = df2['Sex_at_Birth'].replace(mapping_dict)"
   ]
  },
  {
   "cell_type": "code",
   "execution_count": 51,
   "id": "e26fb6fe-258f-428c-8f31-bee0884f7f89",
   "metadata": {},
   "outputs": [],
   "source": [
    "mapping_dict = {\n",
    "    1: \"Underweight\",\n",
    "    2: \"Normal Weight\",\n",
    "    3: \"Overweight\",\n",
    "    4: \"Obese\",\n",
    "    \"BLANK\": \"Don’t know/Refused/Missing\"\n",
    "}\n",
    "\n",
    "df2['BMI'] = df2['BMI'].replace(mapping_dict)"
   ]
  },
  {
   "cell_type": "code",
   "execution_count": 52,
   "id": "0464e999-b971-4413-b21e-b03e412648a2",
   "metadata": {},
   "outputs": [],
   "source": [
    "df2.drop(columns=[\"Children_household\"], errors=\"ignore\", inplace=True)"
   ]
  },
  {
   "cell_type": "code",
   "execution_count": 53,
   "id": "33c500a3-8493-4cd0-9e7c-46241efc60a4",
   "metadata": {},
   "outputs": [],
   "source": [
    "mapping_dict = {\n",
    "    1: \"Did not graduate High School\",\n",
    "    2: \"Graduated High School\",\n",
    "    3: \"Attended College or Technical School\",\n",
    "    4: \"Graduated from College or Technical School\",\n",
    "    9: \"Don’t know/Not sure/Missing\"\n",
    "}\n",
    "\n",
    "df2['Education'] = df2['Education'].replace(mapping_dict)"
   ]
  },
  {
   "cell_type": "code",
   "execution_count": 54,
   "id": "1b5502a9-a40e-490a-9707-23750b59aa75",
   "metadata": {},
   "outputs": [],
   "source": [
    "mapping_dict = {\n",
    "    1: \"Less than $15,000\",\n",
    "    2: \"$15,000 to < $25,000\",\n",
    "    3: \"$25,000 to < $35,000\",\n",
    "    4: \"$35,000 to < $50,000\",\n",
    "    5: \"$50,000 to < $100,000\",\n",
    "    6: \"$100,000 to < $200,000\",\n",
    "    7: \"$200,000 or more\",\n",
    "    9: \"Don’t know/Not sure/Missing\"\n",
    "}\n",
    "\n",
    "# Create a new column \"Modified_Column\" with the modified values\n",
    "df2['Income'] = df2['Income'].replace(mapping_dict)"
   ]
  },
  {
   "cell_type": "code",
   "execution_count": 55,
   "id": "5ffb07ee-bd2f-4e9b-ab41-53771046e504",
   "metadata": {},
   "outputs": [],
   "source": [
    "mapping_dict = {\n",
    "    1: \"Every day\",\n",
    "    2: \"Some days\",\n",
    "    3: \"Former smoker\",\n",
    "    4: \"Never smoked\",\n",
    "    9: \"Don’t know/Refused/Missing\"\n",
    "}\n",
    "\n",
    "# Create a new column \"Modified_Column\" with the modified values\n",
    "df2['Smoking'] = df2['Smoking'].replace(mapping_dict)"
   ]
  },
  {
   "cell_type": "code",
   "execution_count": 56,
   "id": "05858f43-b74c-4ebf-b2e9-8bdf9fa32418",
   "metadata": {},
   "outputs": [],
   "source": [
    "mapping_dict = {\n",
    "    1: \"Yes\",\n",
    "    2: \"No\",\n",
    "    7: \"Don’t know/Not Sure\",\n",
    "    9: \"Refused/Missing\"\n",
    "}\n",
    "\n",
    "# Create a new column \"Modified_Column\" with the modified values\n",
    "df2['Drunk_30days'] = df2['Drunk_30days'].replace(mapping_dict)"
   ]
  },
  {
   "cell_type": "code",
   "execution_count": 57,
   "id": "7d27e8c2-b4e6-4a8b-acbb-bbcb05f94f4e",
   "metadata": {},
   "outputs": [
    {
     "data": {
      "text/plain": [
       "array([5.39760535e-79, 1.00000000e+01, 1.70000000e+01, 3.00000000e+00,\n",
       "       7.00000000e+00, 1.30000000e+01, 9.00000000e+02, 8.60000000e+01,\n",
       "       7.10000000e+01, 2.90000000e+01, 1.40000000e+01, 3.30000000e+01,\n",
       "       1.00000000e+02, 8.30000000e+01, 9.70000000e+01, 4.30000000e+01,\n",
       "       9.30000000e+01, 5.70000000e+01, 2.30000000e+01, 2.70000000e+01,\n",
       "       2.00000000e+01, 5.00000000e+01, 6.70000000e+01, 4.00000000e+01,\n",
       "       6.00000000e+01, 5.30000000e+01, 3.00000000e+01, 4.70000000e+01,\n",
       "       7.00000000e+01, 9.00000000e+01, 8.00000000e+01, 8.70000000e+01,\n",
       "       7.30000000e+01, 7.70000000e+01, 3.70000000e+01, 6.30000000e+01,\n",
       "                  nan])"
      ]
     },
     "execution_count": 57,
     "metadata": {},
     "output_type": "execute_result"
    }
   ],
   "source": [
    "df2['Drinks_per_Day'].unique()"
   ]
  },
  {
   "cell_type": "code",
   "execution_count": 58,
   "id": "9b1dc0fc-4999-4829-b218-6edb6907c1ea",
   "metadata": {},
   "outputs": [
    {
     "data": {
      "text/plain": [
       "array(['0.0', '10.0', '17.0', '3.0', '7.0', '13.0', '900.0', '86.0',\n",
       "       '71.0', '29.0', '14.0', '33.0', '100.0', '83.0', '97.0', '43.0',\n",
       "       '93.0', '57.0', '23.0', '27.0', '20.0', '50.0', '67.0', '40.0',\n",
       "       '60.0', '53.0', '30.0', '47.0', '70.0', '90.0', '80.0', '87.0',\n",
       "       '73.0', '77.0', '37.0', '63.0', 'nan'], dtype=object)"
      ]
     },
     "execution_count": 58,
     "metadata": {},
     "output_type": "execute_result"
    }
   ],
   "source": [
    "df2['Drinks_per_Day'].map('{:.1f}'.format).unique()"
   ]
  },
  {
   "cell_type": "code",
   "execution_count": 59,
   "id": "71527ecc-de91-4787-96b8-fff80f8426a9",
   "metadata": {},
   "outputs": [],
   "source": [
    "# Set the display option to suppress scientific notation\n",
    "pd.set_option('display.float_format', lambda x: '%.2f' % x)"
   ]
  },
  {
   "cell_type": "code",
   "execution_count": 60,
   "id": "b2c3b51e-24a5-4334-a297-c2266f15bd1c",
   "metadata": {},
   "outputs": [],
   "source": [
    "df2[\"Weight(kilograms)\"] = df2[\"Weight(kilograms)\"] / 100"
   ]
  },
  {
   "cell_type": "code",
   "execution_count": 61,
   "id": "010c0d3d-fa09-4419-b940-7aa273588667",
   "metadata": {},
   "outputs": [
    {
     "data": {
      "text/plain": [
       "State                          object\n",
       "Date                           object\n",
       "Mental_Health_Days            float64\n",
       "Sleep_Hours_per_day           float64\n",
       "Deppresive_Dissorder           object\n",
       "Marrital_Status                object\n",
       "Home_Ownership                 object\n",
       "Employed_Status               float64\n",
       "CHILDREN                        Int64\n",
       "100_Cigarettes_Lifetime        object\n",
       "Ecigs_Vapes                    object\n",
       "Covid_Status_Ever              object\n",
       "Satisfaction_Level             object\n",
       "Emotional_Support_Recieved     object\n",
       "Social_Isolation               object\n",
       "Stress_30days                  object\n",
       "Physical_Health                object\n",
       "Physically_Active_30days       object\n",
       "Sex_at_Birth                   object\n",
       "Age_Distrubution              float64\n",
       "Height(inches)                float64\n",
       "Weight(kilograms)             float64\n",
       "BMI                            object\n",
       "Education                      object\n",
       "Income                         object\n",
       "Smoking                        object\n",
       "Drunk_30days                   object\n",
       "Drinks_per_Day                float64\n",
       "Race/Ethnicity                 object\n",
       "dtype: object"
      ]
     },
     "execution_count": 61,
     "metadata": {},
     "output_type": "execute_result"
    }
   ],
   "source": [
    "df2.dtypes"
   ]
  },
  {
   "cell_type": "code",
   "execution_count": 62,
   "id": "56331a3a-65ed-469f-aff7-53a98478ed51",
   "metadata": {},
   "outputs": [],
   "source": [
    "employment_mapping = {\n",
    "    1: \"Employed for wages\",\n",
    "    2: \"Self-employed\",\n",
    "    3: \"Out of work for 1 year or more\",\n",
    "    4: \"Out of work for less than 1 year\",\n",
    "    5: \"A homemaker\",\n",
    "    6: \"A student\",\n",
    "    7: \"Retired\",\n",
    "    8: \"Unable to work\",\n",
    "    9: \"Refused\",\n",
    "    \"BLANK\": \"Not asked or Missing\"\n",
    "}\n",
    "\n",
    "# Replace the values in the \"Employment_Status\" column with their corresponding labels\n",
    "df2[\"Employed_Status\"] = df2[\"Employed_Status\"].replace(employment_mapping)"
   ]
  },
  {
   "cell_type": "code",
   "execution_count": 63,
   "id": "0132e909-e69d-4fb5-976a-360647343d55",
   "metadata": {},
   "outputs": [
    {
     "data": {
      "text/plain": [
       "State                              0\n",
       "Date                               0\n",
       "Mental_Health_Days              9067\n",
       "Sleep_Hours_per_day             5453\n",
       "Deppresive_Dissorder            2812\n",
       "Marrital_Status                    8\n",
       "Home_Ownership                     9\n",
       "Employed_Status                 6196\n",
       "CHILDREN                       14464\n",
       "100_Cigarettes_Lifetime        32663\n",
       "Ecigs_Vapes                    33579\n",
       "Covid_Status_Ever              49235\n",
       "Satisfaction_Level            190644\n",
       "Emotional_Support_Recieved    190991\n",
       "Social_Isolation              191342\n",
       "Stress_30days                 193921\n",
       "Physical_Health                    0\n",
       "Physically_Active_30days           0\n",
       "Sex_at_Birth                       0\n",
       "Age_Distrubution                   0\n",
       "Height(inches)                 32476\n",
       "Weight(kilograms)              42078\n",
       "BMI                            48806\n",
       "Education                          0\n",
       "Income                             0\n",
       "Smoking                            0\n",
       "Drunk_30days                       0\n",
       "Drinks_per_Day                     4\n",
       "Race/Ethnicity                     0\n",
       "dtype: int64"
      ]
     },
     "execution_count": 63,
     "metadata": {},
     "output_type": "execute_result"
    }
   ],
   "source": [
    "missing_values = df2.isna().sum()\n",
    "missing_values"
   ]
  },
  {
   "cell_type": "code",
   "execution_count": 64,
   "id": "9bdd1d79-1510-4e04-958f-f1bd40093331",
   "metadata": {},
   "outputs": [
    {
     "data": {
      "text/plain": [
       "(445132, 29)"
      ]
     },
     "execution_count": 64,
     "metadata": {},
     "output_type": "execute_result"
    }
   ],
   "source": [
    "df2.shape"
   ]
  },
  {
   "cell_type": "code",
   "execution_count": 65,
   "id": "d752b8b3-909c-4c86-adf9-a63e44255c54",
   "metadata": {},
   "outputs": [
    {
     "name": "stdout",
     "output_type": "stream",
     "text": [
      "Percentage of missing values for each variable:\n",
      "State                         0.00\n",
      "Date                          0.00\n",
      "Mental_Health_Days            2.04\n",
      "Sleep_Hours_per_day           1.23\n",
      "Deppresive_Dissorder          0.63\n",
      "Marrital_Status               0.00\n",
      "Home_Ownership                0.00\n",
      "Employed_Status               1.39\n",
      "CHILDREN                      3.25\n",
      "100_Cigarettes_Lifetime       7.34\n",
      "Ecigs_Vapes                   7.54\n",
      "Covid_Status_Ever            11.06\n",
      "Satisfaction_Level           42.83\n",
      "Emotional_Support_Recieved   42.91\n",
      "Social_Isolation             42.99\n",
      "Stress_30days                43.56\n",
      "Physical_Health               0.00\n",
      "Physically_Active_30days      0.00\n",
      "Sex_at_Birth                  0.00\n",
      "Age_Distrubution              0.00\n",
      "Height(inches)                7.30\n",
      "Weight(kilograms)             9.45\n",
      "BMI                          10.96\n",
      "Education                     0.00\n",
      "Income                        0.00\n",
      "Smoking                       0.00\n",
      "Drunk_30days                  0.00\n",
      "Drinks_per_Day                0.00\n",
      "Race/Ethnicity                0.00\n",
      "dtype: float64\n"
     ]
    }
   ],
   "source": [
    "# Percentage of missing or 'na' values across variables in the data frame\n",
    "total_rows = len(df2)\n",
    "missing_percentage = (df2.isna().sum() / total_rows) * 100\n",
    "print(\"Percentage of missing values for each variable:\")\n",
    "print(missing_percentage)"
   ]
  },
  {
   "cell_type": "code",
   "execution_count": 66,
   "id": "c5289481-202b-4065-8856-d44064dad821",
   "metadata": {},
   "outputs": [],
   "source": [
    "# Handling missing values in the dataset(Height, Weight, and BMI)\n",
    "# As we have the variable \"Sex_at_Birth\" with no missing values, we can use it to impute the mean of Weight and Height based on Sex respectively\n",
    "# We can further create a new variable BMI, which will be calculated using these new values as there are 11% missing values\n",
    "# Calculate mean height for males and females\n",
    "mean_height_male = df2[df2['Sex_at_Birth'] == 'Male']['Height(inches)'].mean()\n",
    "mean_height_female = df2[df2['Sex_at_Birth'] == 'Female']['Height(inches)'].mean()\n",
    "\n",
    "# Round mean height values to the nearest whole number\n",
    "mean_height_male = round(mean_height_male)\n",
    "mean_height_female = round(mean_height_female)\n",
    "\n",
    "# Fill missing values with rounded mean heights\n",
    "df2.loc[df2['Sex_at_Birth'] == 'Male', 'Height(inches)'] = df2.loc[df2['Sex_at_Birth'] == 'Male', 'Height(inches)'].fillna(mean_height_male)\n",
    "df2.loc[df2['Sex_at_Birth'] == 'Female', 'Height(inches)'] = df2.loc[df2['Sex_at_Birth'] == 'Female', 'Height(inches)'].fillna(mean_height_female)"
   ]
  },
  {
   "cell_type": "code",
   "execution_count": 67,
   "id": "a2e7e8c1-d49c-4d45-9c6a-9e873dd349c6",
   "metadata": {},
   "outputs": [
    {
     "data": {
      "text/plain": [
       "0"
      ]
     },
     "execution_count": 67,
     "metadata": {},
     "output_type": "execute_result"
    }
   ],
   "source": [
    "df2[\"Height(inches)\"].isnull().sum()"
   ]
  },
  {
   "cell_type": "code",
   "execution_count": 68,
   "id": "f9fb5906-4f8b-45c6-8415-95948c3dd17f",
   "metadata": {},
   "outputs": [
    {
     "name": "stdout",
     "output_type": "stream",
     "text": [
      "Mean Weight for Males: 90.75372073651236\n",
      "Mean Weight for Females: 75.8283316214587\n"
     ]
    }
   ],
   "source": [
    "mean_weight_male = df2[df2['Sex_at_Birth'] == 'Male']['Weight(kilograms)'].mean()\n",
    "mean_weight_female = df2[df2['Sex_at_Birth'] == 'Female']['Weight(kilograms)'].mean()\n",
    "print(\"Mean Weight for Males:\", mean_weight_male)\n",
    "print(\"Mean Weight for Females:\", mean_weight_female)"
   ]
  },
  {
   "cell_type": "code",
   "execution_count": 69,
   "id": "9b2589b7-5592-4c4d-aa2e-231d92c769d1",
   "metadata": {},
   "outputs": [],
   "source": [
    "mean_weight_male1 = round(df2[df2['Sex_at_Birth'] == 'Male']['Weight(kilograms)'].mean(), 2)\n",
    "mean_weight_female1 = round(df2[df2['Sex_at_Birth'] == 'Female']['Weight(kilograms)'].mean(), 2)\n",
    "df2.loc[df2['Sex_at_Birth'] == 'Male', 'Weight(kilograms)'] = df2.loc[df2['Sex_at_Birth'] == 'Male', 'Weight(kilograms)'].fillna(mean_weight_male1)\n",
    "df2.loc[df2['Sex_at_Birth'] == 'Female', 'Weight(kilograms)'] = df2.loc[df2['Sex_at_Birth'] == 'Female', 'Weight(kilograms)'].fillna(mean_weight_female1)"
   ]
  },
  {
   "cell_type": "code",
   "execution_count": 70,
   "id": "da258b62-17fa-4964-af4c-f0ba8d0f73ce",
   "metadata": {},
   "outputs": [],
   "source": [
    "# Calculating and creating a new variable \"Body_Mass_Index\"\n",
    "df2['Height(meters)'] = df2['Height(inches)'] * 0.0254  # 1 inch = 0.0254 meters\n",
    "\n",
    "# Calculate denominator for BMI separately\n",
    "denominator = (df2['Height(meters)']) ** 2\n",
    "\n",
    "# Calculate BMI\n",
    "df2['Body_Mass_Index'] = df2['Weight(kilograms)'] / denominator\n",
    "\n",
    "# Round BMI to two decimal places\n",
    "df2['Body_Mass_Index'] = df2['Body_Mass_Index'].round(2)"
   ]
  },
  {
   "cell_type": "code",
   "execution_count": 71,
   "id": "ad948694-779d-4cc1-b3e6-87a9935d71f0",
   "metadata": {},
   "outputs": [
    {
     "data": {
      "text/plain": [
       "count   445132.00\n",
       "mean        28.50\n",
       "std          6.31\n",
       "min          6.80\n",
       "25%         24.37\n",
       "50%         27.88\n",
       "75%         31.25\n",
       "max        233.27\n",
       "Name: Body_Mass_Index, dtype: float64"
      ]
     },
     "execution_count": 71,
     "metadata": {},
     "output_type": "execute_result"
    }
   ],
   "source": [
    "df2[\"Body_Mass_Index\"].describe()"
   ]
  },
  {
   "cell_type": "code",
   "execution_count": 72,
   "id": "8ac5e743-fdd5-42f6-a916-3f4db5d943ae",
   "metadata": {},
   "outputs": [
    {
     "data": {
      "image/png": "[encoded data removed]",
      "text/plain": [
       "<Figure size 800x600 with 1 Axes>"
      ]
     },
     "metadata": {},
     "output_type": "display_data"
    }
   ],
   "source": [
    "plt.figure(figsize=(8, 6))\n",
    "plt.scatter(df2.index, df2['Body_Mass_Index'], color='blue', alpha=0.5)\n",
    "plt.title('Scatter Plot of Body Mass Index')\n",
    "plt.xlabel('Index')\n",
    "plt.ylabel('Body Mass Index')\n",
    "plt.grid(True)\n",
    "plt.show()"
   ]
  },
  {
   "cell_type": "code",
   "execution_count": 73,
   "id": "5286a58b-6f2e-401a-a849-0a1586891ffa",
   "metadata": {},
   "outputs": [
    {
     "name": "stdout",
     "output_type": "stream",
     "text": [
      "   Body_Mass_Index      BMI_scale\n",
      "0            28.70     Overweight\n",
      "1            26.57     Overweight\n",
      "2            25.60     Overweight\n",
      "3            23.30  Normal weight\n",
      "4            21.77  Normal weight\n"
     ]
    }
   ],
   "source": [
    "# Classifying BMI with respective scales\n",
    "# Define the BMI categories and labels with specific ranges\n",
    "bmi_bins = [0, 18.5, 24.9, 29.9, float('inf')]\n",
    "bmi_labels = ['Underweight', 'Normal weight', 'Overweight', 'Obesity']\n",
    "\n",
    "# Create the 'BMI_scale' variable using cut() function with specific ranges\n",
    "df2['BMI_scale'] = pd.cut(df2['Body_Mass_Index'], bins=bmi_bins, labels=bmi_labels, right=False)\n",
    "\n",
    "# Display the DataFrame with the new 'BMI_scale' variable\n",
    "print(df2[['Body_Mass_Index', 'BMI_scale']].head())"
   ]
  },
  {
   "cell_type": "code",
   "execution_count": 74,
   "id": "3a9b78d0-32ed-4fea-a6a0-5ede9d3aafec",
   "metadata": {},
   "outputs": [],
   "source": [
    "# Imputing nan values with the mode as it is significantly low\n",
    "df2['100_Cigarettes_Lifetime'].fillna(df2['100_Cigarettes_Lifetime'].mode()[0], inplace=True)\n",
    "df2['Ecigs_Vapes'].fillna(df2['Ecigs_Vapes'].mode()[0], inplace=True)\n",
    "df2['CHILDREN'].fillna(df2['CHILDREN'].mode()[0], inplace=True)\n",
    "df2['Employed_Status'].fillna(df2['Employed_Status'].mode()[0], inplace=True)\n",
    "df2['Mental_Health_Days'].fillna(df2['Mental_Health_Days'].mode()[0], inplace=True)\n",
    "df2['Deppresive_Dissorder'].fillna(df2['Deppresive_Dissorder'].mode()[0], inplace=True)\n",
    "df2['Sleep_Hours_per_day'].fillna(df2['Sleep_Hours_per_day'].mode()[0], inplace=True)"
   ]
  },
  {
   "cell_type": "code",
   "execution_count": 75,
   "id": "1bf4c6c2-9033-40ff-9393-a8a4f1ab665e",
   "metadata": {},
   "outputs": [
    {
     "name": "stdout",
     "output_type": "stream",
     "text": [
      "Percentage of missing values for each variable:\n",
      "State                         0.00\n",
      "Date                          0.00\n",
      "Mental_Health_Days            0.00\n",
      "Sleep_Hours_per_day           0.00\n",
      "Deppresive_Dissorder          0.00\n",
      "Marrital_Status               0.00\n",
      "Home_Ownership                0.00\n",
      "Employed_Status               0.00\n",
      "CHILDREN                      0.00\n",
      "100_Cigarettes_Lifetime       0.00\n",
      "Ecigs_Vapes                   0.00\n",
      "Covid_Status_Ever            11.06\n",
      "Satisfaction_Level           42.83\n",
      "Emotional_Support_Recieved   42.91\n",
      "Social_Isolation             42.99\n",
      "Stress_30days                43.56\n",
      "Physical_Health               0.00\n",
      "Physically_Active_30days      0.00\n",
      "Sex_at_Birth                  0.00\n",
      "Age_Distrubution              0.00\n",
      "Height(inches)                0.00\n",
      "Weight(kilograms)             0.00\n",
      "BMI                          10.96\n",
      "Education                     0.00\n",
      "Income                        0.00\n",
      "Smoking                       0.00\n",
      "Drunk_30days                  0.00\n",
      "Drinks_per_Day                0.00\n",
      "Race/Ethnicity                0.00\n",
      "Height(meters)                0.00\n",
      "Body_Mass_Index               0.00\n",
      "BMI_scale                     0.00\n",
      "dtype: float64\n"
     ]
    }
   ],
   "source": [
    "total_rows = len(df2)\n",
    "missing_percentage = (df2.isna().sum() / total_rows) * 100\n",
    "print(\"Percentage of missing values for each variable:\")\n",
    "print(missing_percentage)"
   ]
  },
  {
   "cell_type": "code",
   "execution_count": 76,
   "id": "cf057ee1-676a-405f-a52a-4731c58a6f48",
   "metadata": {},
   "outputs": [],
   "source": [
    "df2.drop(columns=['BMI'], inplace=True)"
   ]
  },
  {
   "cell_type": "code",
   "execution_count": 77,
   "id": "3446765e-0756-4fa7-9277-c126ff0e0922",
   "metadata": {},
   "outputs": [],
   "source": [
    "df2.to_csv('MentalHealth.csv', index=False)"
   ]
  },
  {
   "cell_type": "code",
   "execution_count": 86,
   "id": "1877f8cd-878c-4a6d-9a20-367567bba212",
   "metadata": {},
   "outputs": [
    {
     "data": {
      "text/plain": [
       "Index(['State', 'Date', 'Mental_Health_Days', 'Sleep_Hours_per_day',\n",
       "       'Deppresive_Dissorder', 'Marrital_Status', 'Home_Ownership',\n",
       "       'Employed_Status', 'CHILDREN', '100_Cigarettes_Lifetime', 'Ecigs_Vapes',\n",
       "       'Covid_Status_Ever', 'Satisfaction_Level', 'Emotional_Support_Recieved',\n",
       "       'Social_Isolation', 'Stress_30days', 'Physical_Health',\n",
       "       'Physically_Active_30days', 'Sex_at_Birth', 'Age_Distrubution',\n",
       "       'Height(inches)', 'Weight(kilograms)', 'Education', 'Income', 'Smoking',\n",
       "       'Drunk_30days', 'Drinks_per_Day', 'Race/Ethnicity', 'Height(meters)',\n",
       "       'Body_Mass_Index', 'BMI_scale'],\n",
       "      dtype='object')"
      ]
     },
     "execution_count": 86,
     "metadata": {},
     "output_type": "execute_result"
    }
   ],
   "source": [
    "df2.columns"
   ]
  },
  {
   "cell_type": "code",
   "execution_count": 92,
   "id": "cda6e915-4c22-4ecd-84a4-4c3fbdc12602",
   "metadata": {},
   "outputs": [
    {
     "data": {
      "text/plain": [
       "array(['No', 'Yes'], dtype=object)"
      ]
     },
     "execution_count": 92,
     "metadata": {},
     "output_type": "execute_result"
    }
   ],
   "source": [
    "df2['Deppresive_Dissorder'].unique()"
   ]
  },
  {
   "cell_type": "code",
   "execution_count": 93,
   "id": "3366ac7d-8e14-434b-ab15-b17f0e98aee6",
   "metadata": {},
   "outputs": [
    {
     "data": {
      "text/html": [
       "<div>\n",
       "<style scoped>\n",
       "    .dataframe tbody tr th:only-of-type {\n",
       "        vertical-align: middle;\n",
       "    }\n",
       "\n",
       "    .dataframe tbody tr th {\n",
       "        vertical-align: top;\n",
       "    }\n",
       "\n",
       "    .dataframe thead th {\n",
       "        text-align: right;\n",
       "    }\n",
       "</style>\n",
       "<table border=\"1\" class=\"dataframe\">\n",
       "  <thead>\n",
       "    <tr style=\"text-align: right;\">\n",
       "      <th></th>\n",
       "      <th>State</th>\n",
       "      <th>Date</th>\n",
       "      <th>Mental_Health_Days</th>\n",
       "      <th>Sleep_Hours_per_day</th>\n",
       "      <th>Deppresive_Dissorder</th>\n",
       "      <th>Marrital_Status</th>\n",
       "      <th>Home_Ownership</th>\n",
       "      <th>Employed_Status</th>\n",
       "      <th>CHILDREN</th>\n",
       "      <th>100_Cigarettes_Lifetime</th>\n",
       "      <th>...</th>\n",
       "      <th>Weight(kilograms)</th>\n",
       "      <th>Education</th>\n",
       "      <th>Income</th>\n",
       "      <th>Smoking</th>\n",
       "      <th>Drunk_30days</th>\n",
       "      <th>Drinks_per_Day</th>\n",
       "      <th>Race/Ethnicity</th>\n",
       "      <th>Height(meters)</th>\n",
       "      <th>Body_Mass_Index</th>\n",
       "      <th>BMI_scale</th>\n",
       "    </tr>\n",
       "  </thead>\n",
       "  <tbody>\n",
       "    <tr>\n",
       "      <th>0</th>\n",
       "      <td>Alabama</td>\n",
       "      <td>02-03-2022</td>\n",
       "      <td>0.00</td>\n",
       "      <td>8.00</td>\n",
       "      <td>No</td>\n",
       "      <td>Married</td>\n",
       "      <td>Own</td>\n",
       "      <td>Retired</td>\n",
       "      <td>0</td>\n",
       "      <td>No</td>\n",
       "      <td>...</td>\n",
       "      <td>75.83</td>\n",
       "      <td>Graduated from College or Technical School</td>\n",
       "      <td>Don’t know/Not sure/Missing</td>\n",
       "      <td>Never smoked</td>\n",
       "      <td>No</td>\n",
       "      <td>0.00</td>\n",
       "      <td>White</td>\n",
       "      <td>1.63</td>\n",
       "      <td>28.70</td>\n",
       "      <td>Overweight</td>\n",
       "    </tr>\n",
       "    <tr>\n",
       "      <th>1</th>\n",
       "      <td>Alabama</td>\n",
       "      <td>02-04-2022</td>\n",
       "      <td>0.00</td>\n",
       "      <td>6.00</td>\n",
       "      <td>No</td>\n",
       "      <td>Widowed</td>\n",
       "      <td>Own</td>\n",
       "      <td>Self-employed</td>\n",
       "      <td>0</td>\n",
       "      <td>No</td>\n",
       "      <td>...</td>\n",
       "      <td>68.04</td>\n",
       "      <td>Graduated High School</td>\n",
       "      <td>$25,000 to &lt; $35,000</td>\n",
       "      <td>Never smoked</td>\n",
       "      <td>No</td>\n",
       "      <td>0.00</td>\n",
       "      <td>White</td>\n",
       "      <td>1.60</td>\n",
       "      <td>26.57</td>\n",
       "      <td>Overweight</td>\n",
       "    </tr>\n",
       "    <tr>\n",
       "      <th>2</th>\n",
       "      <td>Alabama</td>\n",
       "      <td>02-02-2022</td>\n",
       "      <td>3.00</td>\n",
       "      <td>5.00</td>\n",
       "      <td>No</td>\n",
       "      <td>Married</td>\n",
       "      <td>Own</td>\n",
       "      <td>Retired</td>\n",
       "      <td>0</td>\n",
       "      <td>No</td>\n",
       "      <td>...</td>\n",
       "      <td>63.50</td>\n",
       "      <td>Graduated from College or Technical School</td>\n",
       "      <td>$100,000 to &lt; $200,000</td>\n",
       "      <td>Never smoked</td>\n",
       "      <td>No</td>\n",
       "      <td>0.00</td>\n",
       "      <td>White</td>\n",
       "      <td>1.57</td>\n",
       "      <td>25.60</td>\n",
       "      <td>Overweight</td>\n",
       "    </tr>\n",
       "    <tr>\n",
       "      <th>3</th>\n",
       "      <td>Alabama</td>\n",
       "      <td>02-03-2022</td>\n",
       "      <td>0.00</td>\n",
       "      <td>7.00</td>\n",
       "      <td>No</td>\n",
       "      <td>Married</td>\n",
       "      <td>Own</td>\n",
       "      <td>Retired</td>\n",
       "      <td>0</td>\n",
       "      <td>Yes</td>\n",
       "      <td>...</td>\n",
       "      <td>63.50</td>\n",
       "      <td>Graduated High School</td>\n",
       "      <td>Don’t know/Not sure/Missing</td>\n",
       "      <td>Some days</td>\n",
       "      <td>No</td>\n",
       "      <td>0.00</td>\n",
       "      <td>White</td>\n",
       "      <td>1.65</td>\n",
       "      <td>23.30</td>\n",
       "      <td>Normal weight</td>\n",
       "    </tr>\n",
       "    <tr>\n",
       "      <th>4</th>\n",
       "      <td>Alabama</td>\n",
       "      <td>02-02-2022</td>\n",
       "      <td>0.00</td>\n",
       "      <td>9.00</td>\n",
       "      <td>No</td>\n",
       "      <td>Married</td>\n",
       "      <td>Own</td>\n",
       "      <td>A homemaker</td>\n",
       "      <td>0</td>\n",
       "      <td>No</td>\n",
       "      <td>...</td>\n",
       "      <td>53.98</td>\n",
       "      <td>Attended College or Technical School</td>\n",
       "      <td>$25,000 to &lt; $35,000</td>\n",
       "      <td>Never smoked</td>\n",
       "      <td>Yes</td>\n",
       "      <td>10.00</td>\n",
       "      <td>White</td>\n",
       "      <td>1.57</td>\n",
       "      <td>21.77</td>\n",
       "      <td>Normal weight</td>\n",
       "    </tr>\n",
       "  </tbody>\n",
       "</table>\n",
       "<p>5 rows × 31 columns</p>\n",
       "</div>"
      ],
      "text/plain": [
       "     State        Date  Mental_Health_Days  Sleep_Hours_per_day  \\\n",
       "0  Alabama  02-03-2022                0.00                 8.00   \n",
       "1  Alabama  02-04-2022                0.00                 6.00   \n",
       "2  Alabama  02-02-2022                3.00                 5.00   \n",
       "3  Alabama  02-03-2022                0.00                 7.00   \n",
       "4  Alabama  02-02-2022                0.00                 9.00   \n",
       "\n",
       "  Deppresive_Dissorder Marrital_Status Home_Ownership Employed_Status  \\\n",
       "0                   No         Married            Own         Retired   \n",
       "1                   No         Widowed            Own   Self-employed   \n",
       "2                   No         Married            Own         Retired   \n",
       "3                   No         Married            Own         Retired   \n",
       "4                   No         Married            Own     A homemaker   \n",
       "\n",
       "   CHILDREN 100_Cigarettes_Lifetime  ... Weight(kilograms)  \\\n",
       "0         0                      No  ...             75.83   \n",
       "1         0                      No  ...             68.04   \n",
       "2         0                      No  ...             63.50   \n",
       "3         0                     Yes  ...             63.50   \n",
       "4         0                      No  ...             53.98   \n",
       "\n",
       "                                    Education                       Income  \\\n",
       "0  Graduated from College or Technical School  Don’t know/Not sure/Missing   \n",
       "1                       Graduated High School         $25,000 to < $35,000   \n",
       "2  Graduated from College or Technical School       $100,000 to < $200,000   \n",
       "3                       Graduated High School  Don’t know/Not sure/Missing   \n",
       "4        Attended College or Technical School         $25,000 to < $35,000   \n",
       "\n",
       "        Smoking Drunk_30days Drinks_per_Day Race/Ethnicity Height(meters)  \\\n",
       "0  Never smoked           No           0.00          White           1.63   \n",
       "1  Never smoked           No           0.00          White           1.60   \n",
       "2  Never smoked           No           0.00          White           1.57   \n",
       "3     Some days           No           0.00          White           1.65   \n",
       "4  Never smoked          Yes          10.00          White           1.57   \n",
       "\n",
       "  Body_Mass_Index      BMI_scale  \n",
       "0           28.70     Overweight  \n",
       "1           26.57     Overweight  \n",
       "2           25.60     Overweight  \n",
       "3           23.30  Normal weight  \n",
       "4           21.77  Normal weight  \n",
       "\n",
       "[5 rows x 31 columns]"
      ]
     },
     "execution_count": 93,
     "metadata": {},
     "output_type": "execute_result"
    }
   ],
   "source": [
    "df2.head(5)"
   ]
  }
 ],
 "metadata": {
  "kernelspec": {
   "display_name": "Python 3 (ipykernel)",
   "language": "python",
   "name": "python3"
  },
  "language_info": {
   "codemirror_mode": {
    "name": "ipython",
    "version": 3
   },
   "file_extension": ".py",
   "mimetype": "text/x-python",
   "name": "python",
   "nbconvert_exporter": "python",
   "pygments_lexer": "ipython3",
   "version": "3.12.0"
  }
 },
 "nbformat": 4,
 "nbformat_minor": 5
}
