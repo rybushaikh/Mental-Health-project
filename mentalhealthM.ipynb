{
 "cells": [
  {
   "cell_type": "code",
   "execution_count": 1,
   "id": "0f5de8d5-2dfc-4765-9210-4310e5cfb013",
   "metadata": {},
   "outputs": [],
   "source": [
    "import pandas as pd\n",
    "import numpy as np\n",
    "import seaborn as sns\n",
    "import matplotlib.pyplot as plt\n",
    "from scipy.stats import chi2_contingency\n",
    "from io import StringIO\n",
    "from sklearn.impute import SimpleImputer\n",
    "from sklearn.preprocessing import StandardScaler\n",
    "from sklearn.model_selection import train_test_split\n",
    "from sklearn.linear_model import LogisticRegression\n",
    "from sklearn.ensemble import RandomForestClassifier\n",
    "from sklearn.metrics import accuracy_score, classification_report, confusion_matrix\n",
    "from sklearn.svm import SVC\n",
    "from sklearn.ensemble import GradientBoostingClassifier"
   ]
  },
  {
   "cell_type": "code",
   "execution_count": 2,
   "id": "894de011-249d-4ab5-8cd7-173590725697",
   "metadata": {},
   "outputs": [],
   "source": [
    "# Reading the Dataset in the enviroment \n",
    "df = pd.read_csv(r\"C:\\Users\\Raheb\\Desktop\\resume files\\MentalHealthDC.csv\")"
   ]
  },
  {
   "cell_type": "code",
   "execution_count": 3,
   "id": "f6d8938f-ed79-4d7e-bdf7-4e7f517823d6",
   "metadata": {},
   "outputs": [
    {
     "name": "stdout",
     "output_type": "stream",
     "text": [
      "<class 'pandas.core.frame.DataFrame'>\n",
      "RangeIndex: 445132 entries, 0 to 445131\n",
      "Data columns (total 31 columns):\n",
      " #   Column                      Non-Null Count   Dtype  \n",
      "---  ------                      --------------   -----  \n",
      " 0   State                       445132 non-null  object \n",
      " 1   Date                        445126 non-null  object \n",
      " 2   Mental_Health_Days          445132 non-null  float64\n",
      " 3   Sleep_Hours_per_day         445132 non-null  float64\n",
      " 4   Deppresive_Dissorder        445132 non-null  object \n",
      " 5   Marrital_Status             445124 non-null  object \n",
      " 6   Home_Ownership              445123 non-null  object \n",
      " 7   Employed_Status             445132 non-null  object \n",
      " 8   CHILDREN                    445132 non-null  int64  \n",
      " 9   100_Cigarettes_Lifetime     445132 non-null  object \n",
      " 10  Ecigs_Vapes                 445132 non-null  object \n",
      " 11  Covid_Status_Ever           395897 non-null  object \n",
      " 12  Satisfaction_Level          254488 non-null  object \n",
      " 13  Emotional_Support_Recieved  254141 non-null  object \n",
      " 14  Social_Isolation            253790 non-null  object \n",
      " 15  Stress_30days               251211 non-null  object \n",
      " 16  Physical_Health             445132 non-null  object \n",
      " 17  Physically_Active_30days    445132 non-null  object \n",
      " 18  Sex_at_Birth                445132 non-null  object \n",
      " 19  Age_Distrubution            445132 non-null  float64\n",
      " 20  Height(inches)              445132 non-null  float64\n",
      " 21  Weight(kilograms)           445132 non-null  float64\n",
      " 22  Education                   445132 non-null  object \n",
      " 23  Income                      445132 non-null  object \n",
      " 24  Smoking                     445132 non-null  object \n",
      " 25  Drunk_30days                445132 non-null  object \n",
      " 26  Drinks_per_Day              445128 non-null  float64\n",
      " 27  Race/Ethnicity              445132 non-null  object \n",
      " 28  Height(meters)              445132 non-null  float64\n",
      " 29  Body_Mass_Index             445132 non-null  float64\n",
      " 30  BMI_scale                   445132 non-null  object \n",
      "dtypes: float64(8), int64(1), object(22)\n",
      "memory usage: 105.3+ MB\n"
     ]
    }
   ],
   "source": [
    "df.info()"
   ]
  },
  {
   "cell_type": "code",
   "execution_count": 4,
   "id": "6c07e947-15fb-4b19-ba7e-f868d8067a44",
   "metadata": {},
   "outputs": [
    {
     "name": "stdout",
     "output_type": "stream",
     "text": [
      "<class 'pandas.core.frame.DataFrame'>\n",
      "RangeIndex: 445132 entries, 0 to 445131\n",
      "Data columns (total 31 columns):\n",
      " #   Column                      Non-Null Count   Dtype   \n",
      "---  ------                      --------------   -----   \n",
      " 0   State                       445132 non-null  category\n",
      " 1   Date                        445126 non-null  category\n",
      " 2   Mental_Health_Days          445132 non-null  float64 \n",
      " 3   Sleep_Hours_per_day         445132 non-null  float64 \n",
      " 4   Deppresive_Dissorder        445132 non-null  category\n",
      " 5   Marrital_Status             445124 non-null  category\n",
      " 6   Home_Ownership              445123 non-null  category\n",
      " 7   Employed_Status             445132 non-null  category\n",
      " 8   CHILDREN                    445132 non-null  int64   \n",
      " 9   100_Cigarettes_Lifetime     445132 non-null  category\n",
      " 10  Ecigs_Vapes                 445132 non-null  category\n",
      " 11  Covid_Status_Ever           395897 non-null  category\n",
      " 12  Satisfaction_Level          254488 non-null  category\n",
      " 13  Emotional_Support_Recieved  254141 non-null  category\n",
      " 14  Social_Isolation            253790 non-null  category\n",
      " 15  Stress_30days               251211 non-null  category\n",
      " 16  Physical_Health             445132 non-null  category\n",
      " 17  Physically_Active_30days    445132 non-null  category\n",
      " 18  Sex_at_Birth                445132 non-null  category\n",
      " 19  Age_Distrubution            445132 non-null  float64 \n",
      " 20  Height(inches)              445132 non-null  float64 \n",
      " 21  Weight(kilograms)           445132 non-null  float64 \n",
      " 22  Education                   445132 non-null  category\n",
      " 23  Income                      445132 non-null  category\n",
      " 24  Smoking                     445132 non-null  category\n",
      " 25  Drunk_30days                445132 non-null  category\n",
      " 26  Drinks_per_Day              445128 non-null  float64 \n",
      " 27  Race/Ethnicity              445132 non-null  category\n",
      " 28  Height(meters)              445132 non-null  float64 \n",
      " 29  Body_Mass_Index             445132 non-null  float64 \n",
      " 30  BMI_scale                   445132 non-null  category\n",
      "dtypes: category(22), float64(8), int64(1)\n",
      "memory usage: 40.4 MB\n"
     ]
    }
   ],
   "source": [
    "# Change all object types to category\n",
    "df = df.apply(lambda x: x.astype('category') if x.dtype == 'object' else x)\n",
    "df.info()"
   ]
  },
  {
   "cell_type": "code",
   "execution_count": 5,
   "id": "7c709865-9421-4330-884f-b0742e9e6774",
   "metadata": {},
   "outputs": [
    {
     "data": {
      "text/plain": [
       "State                              0\n",
       "Date                               6\n",
       "Mental_Health_Days                 0\n",
       "Sleep_Hours_per_day                0\n",
       "Deppresive_Dissorder               0\n",
       "Marrital_Status                    8\n",
       "Home_Ownership                     9\n",
       "Employed_Status                    0\n",
       "CHILDREN                           0\n",
       "100_Cigarettes_Lifetime            0\n",
       "Ecigs_Vapes                        0\n",
       "Covid_Status_Ever              49235\n",
       "Satisfaction_Level            190644\n",
       "Emotional_Support_Recieved    190991\n",
       "Social_Isolation              191342\n",
       "Stress_30days                 193921\n",
       "Physical_Health                    0\n",
       "Physically_Active_30days           0\n",
       "Sex_at_Birth                       0\n",
       "Age_Distrubution                   0\n",
       "Height(inches)                     0\n",
       "Weight(kilograms)                  0\n",
       "Education                          0\n",
       "Income                             0\n",
       "Smoking                            0\n",
       "Drunk_30days                       0\n",
       "Drinks_per_Day                     4\n",
       "Race/Ethnicity                     0\n",
       "Height(meters)                     0\n",
       "Body_Mass_Index                    0\n",
       "BMI_scale                          0\n",
       "dtype: int64"
      ]
     },
     "execution_count": 5,
     "metadata": {},
     "output_type": "execute_result"
    }
   ],
   "source": [
    "df.isna().sum()"
   ]
  },
  {
   "cell_type": "code",
   "execution_count": 6,
   "id": "c540f843-a157-437d-81e4-bbe7b9b989e6",
   "metadata": {},
   "outputs": [],
   "source": [
    "# Imputing missing values\n",
    "# Imputing numerical columns with mean\n",
    "numerical_cols = df.select_dtypes(include=['float64', 'int64']).columns\n",
    "imputer_num = SimpleImputer(strategy='mean')\n",
    "df[numerical_cols] = imputer_num.fit_transform(df[numerical_cols])\n",
    "\n",
    "# Imputing categorical columns with mode\n",
    "categorical_cols = df.select_dtypes(include=['category']).columns\n",
    "imputer_cat = SimpleImputer(strategy='most_frequent')\n",
    "df[categorical_cols] = imputer_cat.fit_transform(df[categorical_cols])"
   ]
  },
  {
   "cell_type": "code",
   "execution_count": 7,
   "id": "66795066-3efd-4876-b980-029ee1b0065a",
   "metadata": {},
   "outputs": [
    {
     "data": {
      "text/plain": [
       "State                         0\n",
       "Date                          0\n",
       "Mental_Health_Days            0\n",
       "Sleep_Hours_per_day           0\n",
       "Deppresive_Dissorder          0\n",
       "Marrital_Status               0\n",
       "Home_Ownership                0\n",
       "Employed_Status               0\n",
       "CHILDREN                      0\n",
       "100_Cigarettes_Lifetime       0\n",
       "Ecigs_Vapes                   0\n",
       "Covid_Status_Ever             0\n",
       "Satisfaction_Level            0\n",
       "Emotional_Support_Recieved    0\n",
       "Social_Isolation              0\n",
       "Stress_30days                 0\n",
       "Physical_Health               0\n",
       "Physically_Active_30days      0\n",
       "Sex_at_Birth                  0\n",
       "Age_Distrubution              0\n",
       "Height(inches)                0\n",
       "Weight(kilograms)             0\n",
       "Education                     0\n",
       "Income                        0\n",
       "Smoking                       0\n",
       "Drunk_30days                  0\n",
       "Drinks_per_Day                0\n",
       "Race/Ethnicity                0\n",
       "Height(meters)                0\n",
       "Body_Mass_Index               0\n",
       "BMI_scale                     0\n",
       "dtype: int64"
      ]
     },
     "execution_count": 7,
     "metadata": {},
     "output_type": "execute_result"
    }
   ],
   "source": [
    "df.isna().sum()"
   ]
  },
  {
   "cell_type": "code",
   "execution_count": 8,
   "id": "ca5e3c24-5538-4253-9bc8-be9818dc9600",
   "metadata": {},
   "outputs": [],
   "source": [
    "# Standardizing and encoding integers and categorical variables\n",
    "# Standardize Numerical Variables\n",
    "scaler_standard = StandardScaler()\n",
    "df[numerical_cols] = scaler_standard.fit_transform(df[numerical_cols])\n",
    "\n",
    "# Encode Categorical Variables\n",
    "df = pd.get_dummies(df, columns=categorical_cols, drop_first=True)"
   ]
  },
  {
   "cell_type": "code",
   "execution_count": 9,
   "id": "4d3c96fe-6b2f-4e18-b970-8dba7253894b",
   "metadata": {},
   "outputs": [
    {
     "data": {
      "text/plain": [
       "(445132, 558)"
      ]
     },
     "execution_count": 9,
     "metadata": {},
     "output_type": "execute_result"
    }
   ],
   "source": [
    "df.shape"
   ]
  },
  {
   "cell_type": "code",
   "execution_count": 10,
   "id": "6fba2005-0511-4656-942d-49cec83f65f3",
   "metadata": {},
   "outputs": [],
   "source": [
    "# Splitting for Modeling\n",
    "# Defining target variable and features\n",
    "X = df.drop(columns=['Deppresive_Dissorder_Yes'])  # Updating with the correct target variable if needed\n",
    "y = df['Deppresive_Dissorder_Yes']  # Target variable\n",
    "\n",
    "# Splitting the data into training and testing sets\n",
    "X_train, X_test, y_train, y_test = train_test_split(X, y, test_size=0.3, random_state=42)\n",
    "\n",
    "# Saving the preprocessed data to new CSV files\n",
    "X_train.to_csv('C:/Users/Raheb/Desktop/resume files/X_train.csv', index=False)\n",
    "X_test.to_csv('C:/Users/Raheb/Desktop/resume files/X_test.csv', index=False)\n",
    "y_train.to_csv('C:/Users/Raheb/Desktop/resume files/y_train.csv', index=False)\n",
    "y_test.to_csv('C:/Users/Raheb/Desktop/resume files/y_test.csv', index=False)"
   ]
  },
  {
   "cell_type": "code",
   "execution_count": 11,
   "id": "338783b3-ae3e-4696-a533-bbb4f031b207",
   "metadata": {},
   "outputs": [],
   "source": [
    "# Loading the preprocessed data\n",
    "X_train = pd.read_csv('C:/Users/Raheb/Desktop/resume files/X_train.csv')\n",
    "X_test = pd.read_csv('C:/Users/Raheb/Desktop/resume files/X_test.csv')\n",
    "y_train = pd.read_csv('C:/Users/Raheb/Desktop/resume files/y_train.csv').values.ravel()  # Converting to 1D array\n",
    "y_test = pd.read_csv('C:/Users/Raheb/Desktop/resume files/y_test.csv').values.ravel()  # Converting to 1D array"
   ]
  },
  {
   "cell_type": "code",
   "execution_count": 12,
   "id": "c63dbb1e-da92-4679-bbc9-e7771afaf841",
   "metadata": {},
   "outputs": [
    {
     "name": "stdout",
     "output_type": "stream",
     "text": [
      "Logistic Regression:\n",
      "Accuracy: 0.8300059907143927\n",
      "Classification Report:\n",
      "              precision    recall  f1-score   support\n",
      "\n",
      "       False       0.85      0.95      0.90    105953\n",
      "        True       0.67      0.35      0.46     27587\n",
      "\n",
      "    accuracy                           0.83    133540\n",
      "   macro avg       0.76      0.65      0.68    133540\n",
      "weighted avg       0.81      0.83      0.81    133540\n",
      "\n",
      "Confusion Matrix:\n",
      "[[101147   4806]\n",
      " [ 17895   9692]]\n"
     ]
    }
   ],
   "source": [
    "# Initializing models: Logistic Regression:\n",
    "log_reg = LogisticRegression(max_iter=1000)\n",
    "\n",
    "# Training and evaluating Logistic Regression\n",
    "log_reg.fit(X_train, y_train)\n",
    "y_pred_log_reg = log_reg.predict(X_test)\n",
    "print(\"Logistic Regression:\")\n",
    "print(f\"Accuracy: {accuracy_score(y_test, y_pred_log_reg)}\")\n",
    "print(\"Classification Report:\")\n",
    "print(classification_report(y_test, y_pred_log_reg))\n",
    "print(\"Confusion Matrix:\")\n",
    "print(confusion_matrix(y_test, y_pred_log_reg))"
   ]
  },
  {
   "cell_type": "code",
   "execution_count": 13,
   "id": "5a7476cf-251d-4b23-8aac-81adad36d1d8",
   "metadata": {},
   "outputs": [
    {
     "name": "stdout",
     "output_type": "stream",
     "text": [
      "\n",
      "Random Forest:\n",
      "Accuracy: 0.8293470121311967\n",
      "Classification Report:\n",
      "              precision    recall  f1-score   support\n",
      "\n",
      "       False       0.84      0.97      0.90    105953\n",
      "        True       0.71      0.30      0.42     27587\n",
      "\n",
      "    accuracy                           0.83    133540\n",
      "   macro avg       0.77      0.63      0.66    133540\n",
      "weighted avg       0.81      0.83      0.80    133540\n",
      "\n",
      "Confusion Matrix:\n",
      "[[102535   3418]\n",
      " [ 19371   8216]]\n"
     ]
    }
   ],
   "source": [
    "# Random Forest:\n",
    "rand_forest = RandomForestClassifier()\n",
    "\n",
    "# Training and evaluating Random Forest\n",
    "rand_forest.fit(X_train, y_train)\n",
    "y_pred_rand_forest = rand_forest.predict(X_test)\n",
    "print(\"\\nRandom Forest:\")\n",
    "print(f\"Accuracy: {accuracy_score(y_test, y_pred_rand_forest)}\")\n",
    "print(\"Classification Report:\")\n",
    "print(classification_report(y_test, y_pred_rand_forest))\n",
    "print(\"Confusion Matrix:\")\n",
    "print(confusion_matrix(y_test, y_pred_rand_forest))"
   ]
  },
  {
   "cell_type": "code",
   "execution_count": 14,
   "id": "d2a5c650-6dd2-4b7f-9c03-7a9b59879a06",
   "metadata": {},
   "outputs": [
    {
     "name": "stdout",
     "output_type": "stream",
     "text": [
      "\n",
      "Gradient Boosting Classifier:\n",
      "Accuracy: 0.832522090759323\n",
      "Classification Report:\n",
      "              precision    recall  f1-score   support\n",
      "\n",
      "       False       0.85      0.95      0.90    105953\n",
      "        True       0.67      0.38      0.48     27587\n",
      "\n",
      "    accuracy                           0.83    133540\n",
      "   macro avg       0.76      0.67      0.69    133540\n",
      "weighted avg       0.82      0.83      0.81    133540\n",
      "\n",
      "Confusion Matrix:\n",
      "[[100678   5275]\n",
      " [ 17090  10497]]\n"
     ]
    }
   ],
   "source": [
    "# Gradient Boosting\n",
    "grad_boost = GradientBoostingClassifier()\n",
    "\n",
    "# Training and evaluating Gradient Boosting Classifier\n",
    "grad_boost.fit(X_train, y_train)\n",
    "y_pred_grad_boost = grad_boost.predict(X_test)\n",
    "print(\"\\nGradient Boosting Classifier:\")\n",
    "print(f\"Accuracy: {accuracy_score(y_test, y_pred_grad_boost)}\")\n",
    "print(\"Classification Report:\")\n",
    "print(classification_report(y_test, y_pred_grad_boost))\n",
    "print(\"Confusion Matrix:\")\n",
    "print(confusion_matrix(y_test, y_pred_grad_boost))"
   ]
  },
  {
   "cell_type": "code",
   "execution_count": null,
   "id": "ab3ec15f-b307-47b7-9fb0-29406a57a4c2",
   "metadata": {},
   "outputs": [],
   "source": [
    "#Support Vector Machine\n",
    "svm_model = SVC(probability=True)\n",
    "\n",
    "# Training and evaluating Support Vector Machine (SVM)   \n",
    "svm_model.fit(X_train, y_train)\n",
    "y_pred_svm = svm_model.predict(X_test)\n",
    "print(\"\\nSupport Vector Machine (SVM):\")\n",
    "print(f\"Accuracy: {accuracy_score(y_test, y_pred_svm)}\")\n",
    "print(\"Classification Report:\")\n",
    "print(classification_report(y_test, y_pred_svm))\n",
    "print(\"Confusion Matrix:\")\n",
    "print(confusion_matrix(y_test, y_pred_svm))"
   ]
  }
 ],
 "metadata": {
  "kernelspec": {
   "display_name": "Python 3 (ipykernel)",
   "language": "python",
   "name": "python3"
  },
  "language_info": {
   "codemirror_mode": {
    "name": "ipython",
    "version": 3
   },
   "file_extension": ".py",
   "mimetype": "text/x-python",
   "name": "python",
   "nbconvert_exporter": "python",
   "pygments_lexer": "ipython3",
   "version": "3.12.0"
  }
 },
 "nbformat": 4,
 "nbformat_minor": 5
}
